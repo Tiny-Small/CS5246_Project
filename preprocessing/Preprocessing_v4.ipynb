{
 "cells": [
  {
   "cell_type": "code",
   "execution_count": 2,
   "metadata": {},
   "outputs": [
    {
     "data": {
      "text/plain": [
       "True"
      ]
     },
     "execution_count": 2,
     "metadata": {},
     "output_type": "execute_result"
    }
   ],
   "source": [
    "import pandas as pd\n",
    "import re\n",
    "import json\n",
    "from tqdm import tqdm\n",
    "\n",
    "from llama_index.llms.openai import OpenAI\n",
    "\n",
    "from dotenv import load_dotenv\n",
    "import os\n",
    "load_dotenv()"
   ]
  },
  {
   "cell_type": "code",
   "execution_count": 3,
   "metadata": {},
   "outputs": [],
   "source": [
    "json_file_path = \"dictionary/slang.json\"\n",
    "\n",
    "# Load JSON file\n",
    "with open(json_file_path, \"r\", encoding=\"utf-8\") as f:\n",
    "    slang_dict = json.load(f)"
   ]
  },
  {
   "cell_type": "code",
   "execution_count": null,
   "metadata": {},
   "outputs": [],
   "source": [
    "train_val_df = pd.read_excel(\"backup_v2/train_val_df.xlsx\")\n",
    "test_df = pd.read_excel(\"backup_v2/test_df.xlsx\")\n",
    "df = pd.concat([train_val_df, test_df])\n",
    "unique_text_df = pd.DataFrame({'text' : df.text.unique()})"
   ]
  },
  {
   "cell_type": "code",
   "execution_count": 5,
   "metadata": {},
   "outputs": [],
   "source": [
    "myWorker = OpenAI(model=\"gpt-4o-mini\", temperature=0, max_retries=20)"
   ]
  },
  {
   "cell_type": "markdown",
   "metadata": {},
   "source": [
    "# Segmentation, and Entity/Aspect, Opinion and Emotion extraction"
   ]
  },
  {
   "cell_type": "code",
   "execution_count": 73,
   "metadata": {},
   "outputs": [],
   "source": [
    "def prompt_update(comment, slang_part):\n",
    "    # GPT prompt template\n",
    "    PROMPT_TEMPLATE = f\"\"\"# Objective: You are an assistant that processes long user comments. Your task is to:\n",
    "\n",
    "# Rules:\n",
    "1. Split the comment into short, coherent segments.\n",
    "2. For each segment, extract all (aspect, opinion, emotion) triplets.\n",
    "3. Use ONLY the following emotion labels: [\"NEUTRAL\", \"SADNESS\", \"JOY\", \"ANGER\", \"DISGUST\", \"FEAR\", \"SURPRISE\", \"INVALID\"]\n",
    "4. If no valid or clear emotion is expressed, label the triplet with \"INVALID\".\n",
    "5. When the tone is sarcastic, mocking, or ironic, infer the actual emotion conveyed.\n",
    "6. Do not include explanatory text. Only return the JSON in the exact format shown below.\n",
    "\n",
    "# Format:\n",
    "[\n",
    "  {{\n",
    "    \"segment\": \"...\",\n",
    "    \"triplets\": [\n",
    "      {{\"aspect\": \"...\", \"opinion\": \"...\", \"emotion\": \"...\"}}\n",
    "    ]\n",
    "  }}\n",
    "]\n",
    "\n",
    "# Examples:\n",
    "\n",
    "Comment: \"> You don't take off your mask in malls either (only in restaurants). People are allowed to take off their masks to consume food and drink. Personally, I see many people eat their OCK and sip their BBT while walking around malls.\"\n",
    "Response:\n",
    "[\n",
    "  {{\n",
    "    \"segment\": \"You don't take off your mask in malls either (only in restaurants). People are allowed to take off their masks to consume food and drink.\",\n",
    "    \"triplets\": [\n",
    "      {{\"aspect\": \"You\", \"opinion\": \"don't take off in malls\", \"emotion\": \"NEUTRAL\"}},\n",
    "      {{\"aspect\": \"people\", \"opinion\": \"allowed to take off their masks to consume food\", \"emotion\": \"INVALID\"}}\n",
    "    ]\n",
    "  }},\n",
    "  {{\n",
    "    \"segment\": \"Personally, I see many people eat their OCK and sip their BBT while walking around malls.\",\n",
    "    \"triplets\": [\n",
    "      {{\"aspect\": \"people\", \"opinion\": \"eat their OCK\", \"emotion\": \"NEUTRAL\"}},\n",
    "      {{\"aspect\": \"people\", \"opinion\": \"sip their BBT\", \"emotion\": \"NEUTRAL\"}}\n",
    "    ]\n",
    "  }}\n",
    "]\n",
    "\n",
    "Comment: \"> Fools still think the shot is helping. Awesome\"\n",
    "Response:\n",
    "[\n",
    "  {{\n",
    "    \"segment\": \"Fools still think the shot is helping. Awesome\",\n",
    "    \"triplets\": [\n",
    "      {{\"aspect\": \"shot\", \"opinion\": \"is helping\", \"emotion\": \"DISGUST\"}}\n",
    "    ]\n",
    "  }}\n",
    "]\n",
    "\n",
    "Comment: \"> Sure, the government *really* cares about us.\"\n",
    "Response:\n",
    "[\n",
    "  {{\n",
    "    \"segment\": \"Sure, the government really cares about us.\",\n",
    "    \"triplets\": [\n",
    "      {{\"aspect\": \"government\", \"opinion\": \"really cares about us\", \"emotion\": \"DISGUST\"}}\n",
    "    ]\n",
    "  }}\n",
    "]\n",
    "\n",
    "Comment: \"> It was raining yesterday.\"\n",
    "Response:\n",
    "[\n",
    "  {{\n",
    "    \"segment\": \"It was raining yesterday.\",\n",
    "    \"triplets\": [\n",
    "      {{\"aspect\": \"weather\", \"opinion\": \"raining\", \"emotion\": \"INVALID\"}}\n",
    "    ]\n",
    "  }}\n",
    "]\n",
    "\n",
    "Comment: \"Singapore's nightlife not bad eh, got some hidden gems.\"\n",
    "Response:\n",
    "[\n",
    "  {{\n",
    "    \"segment\": \"Singapore's nightlife not bad eh, got some hidden gems.\",\n",
    "    \"triplets\": [\n",
    "      {{\"aspect\": \"Singapore's nightlife\", \"opinion\": \"not bad\", \"emotion\": \"JOY\"}},\n",
    "      {{\"aspect\": \"Singapore's nightlife\", \"opinion\": \"hidden gems\", \"emotion\": \"JOY\"}}\n",
    "    ]\n",
    "  }}\n",
    "]\n",
    "\n",
    "Here is the comment: \"{comment}\"\n",
    "{slang_part}\n",
    "\"\"\"\n",
    "\n",
    "    return PROMPT_TEMPLATE"
   ]
  },
  {
   "cell_type": "code",
   "execution_count": null,
   "metadata": {},
   "outputs": [
    {
     "name": "stderr",
     "output_type": "stream",
     "text": [
      "100%|██████████| 3574/3574 [3:53:40<00:00,  3.92s/it]  \n"
     ]
    }
   ],
   "source": [
    "start_index = 0\n",
    "text_list = []\n",
    "\n",
    "for index, row in tqdm(unique_text_df.iloc[start_index:].iterrows(), total=len(unique_text_df) - start_index):\n",
    "    row_text = row.text.replace('\\n\\n', ' ')\n",
    "\n",
    "    # Collect slang meanings\n",
    "    pot_slangs = row_text.split()\n",
    "    slang_part = \"\"\n",
    "    for slang in pot_slangs:\n",
    "        slang = re.sub(r\"[^\\w\\s]\", \"\", slang.strip().lower())\n",
    "        if slang in slang_dict:\n",
    "            slang_part += f\"\\nAdditional information: The slang '{slang}' in the comment could mean '{slang_dict[slang]}'. Use this potential meaning to refine your response.\"\n",
    "\n",
    "    slang_part = slang_part.replace('\\n\\n', '\\n')\n",
    "    prompt = prompt_update(row_text, slang_part)\n",
    "\n",
    "    response = myWorker.complete(prompt).text\n",
    "    text_list.append(response)"
   ]
  },
  {
   "cell_type": "markdown",
   "metadata": {},
   "source": [
    "## Saving the raw responses"
   ]
  },
  {
   "cell_type": "code",
   "execution_count": 90,
   "metadata": {},
   "outputs": [],
   "source": [
    "folder_path = \"backup_v4\"\n",
    "json_file_path = os.path.join(folder_path, \"all_data_raw_processed.json\")\n",
    "os.makedirs(folder_path, exist_ok=True)\n",
    "\n",
    "with open(json_file_path, \"w\") as file:\n",
    "    json.dump(text_list, file, indent=4)"
   ]
  },
  {
   "cell_type": "markdown",
   "metadata": {},
   "source": [
    "# Make responses into a df"
   ]
  },
  {
   "cell_type": "code",
   "execution_count": 91,
   "metadata": {},
   "outputs": [],
   "source": [
    "with open(\"backup_v4/all_data_raw_processed.json\", \"r\", encoding=\"utf-8\") as f:\n",
    "    loaded_text = json.load(f)"
   ]
  },
  {
   "cell_type": "code",
   "execution_count": 104,
   "metadata": {},
   "outputs": [],
   "source": [
    "processed_list = []\n",
    "\n",
    "for cleaned_replies, original in zip(loaded_text, unique_text_df.itertuples(index=False)):\n",
    "    comment = original.text\n",
    "\n",
    "    try:\n",
    "        annotations = json.loads(cleaned_replies)\n",
    "    except json.JSONDecodeError:\n",
    "        print(f\"Error parsing JSON\")\n",
    "        print(original)\n",
    "        break\n",
    "\n",
    "    for annotation in annotations:\n",
    "        segment = annotation[\"segment\"]\n",
    "        for triplet in annotation[\"triplets\"]:\n",
    "            processed_list.append({\n",
    "                \"text\": comment,             # Full original comment\n",
    "                \"segment\": segment,          # The local segment\n",
    "                \"aspect\": triplet[\"aspect\"],\n",
    "                \"opinion\": triplet[\"opinion\"],\n",
    "                \"emotion\": triplet[\"emotion\"]\n",
    "            })\n"
   ]
  },
  {
   "cell_type": "code",
   "execution_count": 154,
   "metadata": {},
   "outputs": [],
   "source": [
    "final_df = pd.DataFrame(processed_list)"
   ]
  },
  {
   "cell_type": "markdown",
   "metadata": {},
   "source": [
    "# Clean emotions"
   ]
  },
  {
   "cell_type": "code",
   "execution_count": null,
   "metadata": {},
   "outputs": [],
   "source": [
    "emotion_mapping = {\n",
    "    \"INVALID\": \"NEUTRAL\",\n",
    "    \"JOY\": \"JOY\",\n",
    "    \"NEUTRAL\": \"NEUTRAL\",\n",
    "    \"DISGUST\": \"DISGUST\",\n",
    "    \"SADNESS\": \"SADNESS\",\n",
    "    \"FEAR\": \"FEAR\",\n",
    "    \"ANGRY\": \"ANGER\",\n",
    "    \"ANGER\": \"ANGER\",\n",
    "    \"SURPRISE\": \"SURPRISE\",\n",
    "    \"CONFUSION\": \"SADNESS\",\n",
    "    \"FRUSTRATION\": \"ANGER\",\n",
    "    \"HOPE\": \"JOY\",\n",
    "    \"SKEPTICISM\": \"NEUTRAL\",\n",
    "    \"SKEPTICAL\": \"NEUTRAL\"\n",
    "}\n",
    "\n",
    "final_df[\"emotion\"] = final_df[\"emotion\"].map(emotion_mapping)"
   ]
  },
  {
   "cell_type": "markdown",
   "metadata": {},
   "source": [
    "# Clean Opinions"
   ]
  },
  {
   "cell_type": "code",
   "execution_count": 157,
   "metadata": {},
   "outputs": [],
   "source": [
    "invalid_opinion = [\"not invalid\",\n",
    "                    \"invalid\",\n",
    "                    \"INVALID\",\n",
    "                    \"is invalid\",\n",
    "                    \"invalidated\",\n",
    "                    \"not invaliding\",\n",
    "                    \"are invalid\",\n",
    "                    \"invalid\",\n",
    "                    \"is invalidating\",\n",
    "                    \"doesn't mean either point is invalid\"]"
   ]
  },
  {
   "cell_type": "code",
   "execution_count": 158,
   "metadata": {},
   "outputs": [
    {
     "name": "stdout",
     "output_type": "stream",
     "text": [
      "before dropping: 17292\n",
      "after dropping: 17266\n"
     ]
    }
   ],
   "source": [
    "print(f\"before dropping: {len(final_df)}\")\n",
    "final_df = final_df[~final_df[\"opinion\"].isin(invalid_opinion)]\n",
    "print(f\"after dropping: {len(final_df)}\")"
   ]
  },
  {
   "cell_type": "code",
   "execution_count": 159,
   "metadata": {},
   "outputs": [],
   "source": [
    "final_df = final_df.dropna(subset=[\"opinion\"])\n",
    "final_df = final_df[(final_df[\"opinion\"].str.strip() != \"\")]"
   ]
  },
  {
   "cell_type": "markdown",
   "metadata": {},
   "source": [
    "# Clean unmatched triplets"
   ]
  },
  {
   "cell_type": "code",
   "execution_count": 160,
   "metadata": {},
   "outputs": [],
   "source": [
    "def clean_unmatched_triplets(triplet_data):\n",
    "    \"\"\"\n",
    "    Removes triplets where the aspect or opinion does not appear in the segment text.\n",
    "    Assumes triplet_data is a list of dicts with keys: 'text', 'segment', 'aspect', 'opinion', 'emotion'\n",
    "    \"\"\"\n",
    "    cleaned = []\n",
    "\n",
    "    for idx, row in triplet_data.iterrows():\n",
    "        segment = row[\"segment\"].lower()\n",
    "        aspect = row[\"aspect\"].lower()\n",
    "        opinion = row[\"opinion\"].lower()\n",
    "\n",
    "        if aspect in segment and opinion in segment:\n",
    "            cleaned.append(row)\n",
    "\n",
    "    return cleaned"
   ]
  },
  {
   "cell_type": "code",
   "execution_count": 161,
   "metadata": {},
   "outputs": [],
   "source": [
    "cleaned_data = clean_unmatched_triplets(final_df)\n",
    "final_df_cleaned = pd.DataFrame(cleaned_data)"
   ]
  },
  {
   "cell_type": "code",
   "execution_count": 162,
   "metadata": {},
   "outputs": [
    {
     "name": "stdout",
     "output_type": "stream",
     "text": [
      "emotion\n",
      "NEUTRAL     0.337441\n",
      "JOY         0.195355\n",
      "SADNESS     0.182654\n",
      "DISGUST     0.172796\n",
      "ANGER       0.074408\n",
      "FEAR        0.027393\n",
      "SURPRISE    0.009953\n",
      "Name: proportion, dtype: float64\n",
      "10550\n"
     ]
    }
   ],
   "source": [
    "print(final_df_cleaned.emotion.value_counts(normalize=True))\n",
    "print(len(final_df_cleaned))"
   ]
  },
  {
   "cell_type": "markdown",
   "metadata": {},
   "source": [
    "# Saving"
   ]
  },
  {
   "cell_type": "code",
   "execution_count": null,
   "metadata": {},
   "outputs": [],
   "source": [
    "final_df_cleaned.to_excel(\"backup_v4/final_df.xlsx\", index=False)\n",
    "final_df_cleaned.to_json(\"backup_v4/final_df.json\", orient=\"records\", indent=2, force_ascii=False)"
   ]
  },
  {
   "cell_type": "code",
   "execution_count": 164,
   "metadata": {},
   "outputs": [
    {
     "data": {
      "text/html": [
       "<div>\n",
       "<style scoped>\n",
       "    .dataframe tbody tr th:only-of-type {\n",
       "        vertical-align: middle;\n",
       "    }\n",
       "\n",
       "    .dataframe tbody tr th {\n",
       "        vertical-align: top;\n",
       "    }\n",
       "\n",
       "    .dataframe thead th {\n",
       "        text-align: right;\n",
       "    }\n",
       "</style>\n",
       "<table border=\"1\" class=\"dataframe\">\n",
       "  <thead>\n",
       "    <tr style=\"text-align: right;\">\n",
       "      <th></th>\n",
       "      <th>text</th>\n",
       "      <th>segment</th>\n",
       "      <th>aspect</th>\n",
       "      <th>opinion</th>\n",
       "      <th>emotion</th>\n",
       "    </tr>\n",
       "  </thead>\n",
       "  <tbody>\n",
       "    <tr>\n",
       "      <th>0</th>\n",
       "      <td>pei shan lin there won't be any complaint?</td>\n",
       "      <td>pei shan lin there won't be any complaint?</td>\n",
       "      <td>complaint</td>\n",
       "      <td>won't be any</td>\n",
       "      <td>NEUTRAL</td>\n",
       "    </tr>\n",
       "    <tr>\n",
       "      <th>1</th>\n",
       "      <td>breaking: singapore will repeal section 377a a...</td>\n",
       "      <td>breaking: singapore will repeal section 377a a...</td>\n",
       "      <td>section 377a</td>\n",
       "      <td>will repeal</td>\n",
       "      <td>JOY</td>\n",
       "    </tr>\n",
       "    <tr>\n",
       "      <th>2</th>\n",
       "      <td>breaking: singapore will repeal section 377a a...</td>\n",
       "      <td>breaking: singapore will repeal section 377a a...</td>\n",
       "      <td>sex between men</td>\n",
       "      <td>decriminalise</td>\n",
       "      <td>JOY</td>\n",
       "    </tr>\n",
       "    <tr>\n",
       "      <th>3</th>\n",
       "      <td>Kama Dege That’s how propaganda works. Russia,...</td>\n",
       "      <td>Kama Dege That’s how propaganda works.</td>\n",
       "      <td>propaganda</td>\n",
       "      <td>works</td>\n",
       "      <td>NEUTRAL</td>\n",
       "    </tr>\n",
       "    <tr>\n",
       "      <th>4</th>\n",
       "      <td>Kama Dege That’s how propaganda works. Russia,...</td>\n",
       "      <td>So no love from the world.</td>\n",
       "      <td>world</td>\n",
       "      <td>no love</td>\n",
       "      <td>SADNESS</td>\n",
       "    </tr>\n",
       "    <tr>\n",
       "      <th>...</th>\n",
       "      <td>...</td>\n",
       "      <td>...</td>\n",
       "      <td>...</td>\n",
       "      <td>...</td>\n",
       "      <td>...</td>\n",
       "    </tr>\n",
       "    <tr>\n",
       "      <th>10545</th>\n",
       "      <td>sanip said if u abolish it, a whole lot more w...</td>\n",
       "      <td>sanip said if u abolish it, a whole lot more w...</td>\n",
       "      <td>abolish it</td>\n",
       "      <td>a whole lot more will come</td>\n",
       "      <td>NEUTRAL</td>\n",
       "    </tr>\n",
       "    <tr>\n",
       "      <th>10546</th>\n",
       "      <td>Koh Ah Chwee I do support them lifting for oth...</td>\n",
       "      <td>Koh Ah Chwee I do support them lifting for oth...</td>\n",
       "      <td>lifting</td>\n",
       "      <td>support them lifting for other issues</td>\n",
       "      <td>JOY</td>\n",
       "    </tr>\n",
       "    <tr>\n",
       "      <th>10547</th>\n",
       "      <td>Koh Ah Chwee I do support them lifting for oth...</td>\n",
       "      <td>And lifting doesn't automatically mean they ha...</td>\n",
       "      <td>PAP</td>\n",
       "      <td>got no excuse to hide</td>\n",
       "      <td>DISGUST</td>\n",
       "    </tr>\n",
       "    <tr>\n",
       "      <th>10548</th>\n",
       "      <td>Koh Ah Chwee I do support them lifting for oth...</td>\n",
       "      <td>So they are actually even more accountable now...</td>\n",
       "      <td>actions</td>\n",
       "      <td>have to explain their actions</td>\n",
       "      <td>NEUTRAL</td>\n",
       "    </tr>\n",
       "    <tr>\n",
       "      <th>10549</th>\n",
       "      <td>Koh Ah Chwee I do support them lifting for oth...</td>\n",
       "      <td>So they are actually even more accountable now...</td>\n",
       "      <td>fallout</td>\n",
       "      <td>deal with the fallout of their vote</td>\n",
       "      <td>SADNESS</td>\n",
       "    </tr>\n",
       "  </tbody>\n",
       "</table>\n",
       "<p>10550 rows × 5 columns</p>\n",
       "</div>"
      ],
      "text/plain": [
       "                                                    text  \\\n",
       "0             pei shan lin there won't be any complaint?   \n",
       "1      breaking: singapore will repeal section 377a a...   \n",
       "2      breaking: singapore will repeal section 377a a...   \n",
       "3      Kama Dege That’s how propaganda works. Russia,...   \n",
       "4      Kama Dege That’s how propaganda works. Russia,...   \n",
       "...                                                  ...   \n",
       "10545  sanip said if u abolish it, a whole lot more w...   \n",
       "10546  Koh Ah Chwee I do support them lifting for oth...   \n",
       "10547  Koh Ah Chwee I do support them lifting for oth...   \n",
       "10548  Koh Ah Chwee I do support them lifting for oth...   \n",
       "10549  Koh Ah Chwee I do support them lifting for oth...   \n",
       "\n",
       "                                                 segment           aspect  \\\n",
       "0             pei shan lin there won't be any complaint?        complaint   \n",
       "1      breaking: singapore will repeal section 377a a...     section 377a   \n",
       "2      breaking: singapore will repeal section 377a a...  sex between men   \n",
       "3                 Kama Dege That’s how propaganda works.       propaganda   \n",
       "4                             So no love from the world.            world   \n",
       "...                                                  ...              ...   \n",
       "10545  sanip said if u abolish it, a whole lot more w...       abolish it   \n",
       "10546  Koh Ah Chwee I do support them lifting for oth...          lifting   \n",
       "10547  And lifting doesn't automatically mean they ha...              PAP   \n",
       "10548  So they are actually even more accountable now...          actions   \n",
       "10549  So they are actually even more accountable now...          fallout   \n",
       "\n",
       "                                     opinion  emotion  \n",
       "0                               won't be any  NEUTRAL  \n",
       "1                                will repeal      JOY  \n",
       "2                              decriminalise      JOY  \n",
       "3                                      works  NEUTRAL  \n",
       "4                                    no love  SADNESS  \n",
       "...                                      ...      ...  \n",
       "10545             a whole lot more will come  NEUTRAL  \n",
       "10546  support them lifting for other issues      JOY  \n",
       "10547                  got no excuse to hide  DISGUST  \n",
       "10548          have to explain their actions  NEUTRAL  \n",
       "10549    deal with the fallout of their vote  SADNESS  \n",
       "\n",
       "[10550 rows x 5 columns]"
      ]
     },
     "execution_count": 164,
     "metadata": {},
     "output_type": "execute_result"
    }
   ],
   "source": [
    "df_testing = pd.read_excel(\"backup_v4/final_df.xlsx\")\n",
    "df_testing"
   ]
  },
  {
   "cell_type": "code",
   "execution_count": null,
   "metadata": {},
   "outputs": [],
   "source": []
  }
 ],
 "metadata": {
  "kernelspec": {
   "display_name": "MISC-text-mining",
   "language": "python",
   "name": "python3"
  },
  "language_info": {
   "codemirror_mode": {
    "name": "ipython",
    "version": 3
   },
   "file_extension": ".py",
   "mimetype": "text/x-python",
   "name": "python",
   "nbconvert_exporter": "python",
   "pygments_lexer": "ipython3",
   "version": "3.10.6"
  }
 },
 "nbformat": 4,
 "nbformat_minor": 2
}
