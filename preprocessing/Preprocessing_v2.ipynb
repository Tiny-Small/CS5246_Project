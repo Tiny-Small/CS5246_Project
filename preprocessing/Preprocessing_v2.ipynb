{
 "cells": [
  {
   "cell_type": "code",
   "execution_count": 2,
   "metadata": {},
   "outputs": [
    {
     "data": {
      "text/plain": [
       "True"
      ]
     },
     "execution_count": 2,
     "metadata": {},
     "output_type": "execute_result"
    }
   ],
   "source": [
    "import pandas as pd\n",
    "import re\n",
    "import json\n",
    "from tqdm import tqdm\n",
    "\n",
    "from llama_index.llms.openai import OpenAI\n",
    "\n",
    "from dotenv import load_dotenv\n",
    "import os\n",
    "load_dotenv()"
   ]
  },
  {
   "cell_type": "markdown",
   "metadata": {},
   "source": [
    "# Build dictionary of slangs"
   ]
  },
  {
   "cell_type": "markdown",
   "metadata": {},
   "source": [
    "- Slangs: https://www.kaggle.com/code/nmaguette/up-to-date-list-of-slangs-for-text-preprocessing/comments\n",
    "- Singlish: https://thehoneycombers.com/singapore/singlish-101/"
   ]
  },
  {
   "cell_type": "code",
   "execution_count": 2,
   "metadata": {},
   "outputs": [],
   "source": [
    "abbreviations = {\n",
    "    \"$\" : \" dollar \",\n",
    "    \"€\" : \" euro \",\n",
    "    \"4ao\" : \"for adults only\",\n",
    "    \"a.m\" : \"before midday\",\n",
    "    \"a3\" : \"anytime anywhere anyplace\",\n",
    "    \"aamof\" : \"as a matter of fact\",\n",
    "    \"acct\" : \"account\",\n",
    "    \"adih\" : \"another day in hell\",\n",
    "    \"afaic\" : \"as far as i am concerned\",\n",
    "    \"afaict\" : \"as far as i can tell\",\n",
    "    \"afaik\" : \"as far as i know\",\n",
    "    \"afair\" : \"as far as i remember\",\n",
    "    \"afk\" : \"away from keyboard\",\n",
    "    \"app\" : \"application\",\n",
    "    \"approx\" : \"approximately\",\n",
    "    \"apps\" : \"applications\",\n",
    "    \"asap\" : \"as soon as possible\",\n",
    "    \"asl\" : \"age, sex, location\",\n",
    "    \"atk\" : \"at the keyboard\",\n",
    "    \"ave.\" : \"avenue\",\n",
    "    \"aymm\" : \"are you my mother\",\n",
    "    \"ayor\" : \"at your own risk\",\n",
    "    \"b&b\" : \"bed and breakfast\",\n",
    "    \"b+b\" : \"bed and breakfast\",\n",
    "    \"b.c\" : \"before christ\",\n",
    "    \"b2b\" : \"business to business\",\n",
    "    \"b2c\" : \"business to customer\",\n",
    "    \"b4\" : \"before\",\n",
    "    \"b4n\" : \"bye for now\",\n",
    "    \"b@u\" : \"back at you\",\n",
    "    \"bae\" : \"before anyone else\",\n",
    "    \"bak\" : \"back at keyboard\",\n",
    "    \"bbbg\" : \"bye bye be good\",\n",
    "    \"bbc\" : \"british broadcasting corporation\",\n",
    "    \"bbias\" : \"be back in a second\",\n",
    "    \"bbl\" : \"be back later\",\n",
    "    \"bbs\" : \"be back soon\",\n",
    "    \"be4\" : \"before\",\n",
    "    \"bfn\" : \"bye for now\",\n",
    "    \"blvd\" : \"boulevard\",\n",
    "    \"bout\" : \"about\",\n",
    "    \"brb\" : \"be right back\",\n",
    "    \"bros\" : \"brothers\",\n",
    "    \"brt\" : \"be right there\",\n",
    "    \"bsaaw\" : \"big smile and a wink\",\n",
    "    \"btw\" : \"by the way\",\n",
    "    \"bwl\" : \"bursting with laughter\",\n",
    "    \"c/o\" : \"care of\",\n",
    "    \"cet\" : \"central european time\",\n",
    "    \"cf\" : \"compare\",\n",
    "    \"cia\" : \"central intelligence agency\",\n",
    "    \"csl\" : \"can not stop laughing\",\n",
    "    \"cu\" : \"see you\",\n",
    "    \"cul8r\" : \"see you later\",\n",
    "    \"cv\" : \"curriculum vitae\",\n",
    "    \"cwot\" : \"complete waste of time\",\n",
    "    \"cya\" : \"see you\",\n",
    "    \"cyt\" : \"see you tomorrow\",\n",
    "    \"dae\" : \"does anyone else\",\n",
    "    \"dbmib\" : \"do not bother me i am busy\",\n",
    "    \"diy\" : \"do it yourself\",\n",
    "    \"dm\" : \"direct message\",\n",
    "    \"dwh\" : \"during work hours\",\n",
    "    \"e123\" : \"easy as one two three\",\n",
    "    \"eet\" : \"eastern european time\",\n",
    "    \"eg\" : \"example\",\n",
    "    \"embm\" : \"early morning business meeting\",\n",
    "    \"encl\" : \"enclosed\",\n",
    "    \"encl.\" : \"enclosed\",\n",
    "    \"etc\" : \"and so on\",\n",
    "    \"faq\" : \"frequently asked questions\",\n",
    "    \"fawc\" : \"for anyone who cares\",\n",
    "    \"fb\" : \"facebook\",\n",
    "    \"fc\" : \"fingers crossed\",\n",
    "    \"fig\" : \"figure\",\n",
    "    \"fimh\" : \"forever in my heart\",\n",
    "    \"ft.\" : \"feet\",\n",
    "    \"ft\" : \"featuring\",\n",
    "    \"ftl\" : \"for the loss\",\n",
    "    \"ftw\" : \"for the win\",\n",
    "    \"fwiw\" : \"for what it is worth\",\n",
    "    \"fyi\" : \"for your information\",\n",
    "    \"g9\" : \"genius\",\n",
    "    \"gahoy\" : \"get a hold of yourself\",\n",
    "    \"gal\" : \"get a life\",\n",
    "    \"gcse\" : \"general certificate of secondary education\",\n",
    "    \"gfn\" : \"gone for now\",\n",
    "    \"gg\" : \"good game\",\n",
    "    \"gl\" : \"good luck\",\n",
    "    \"glhf\" : \"good luck have fun\",\n",
    "    \"gmt\" : \"greenwich mean time\",\n",
    "    \"gmta\" : \"great minds think alike\",\n",
    "    \"gn\" : \"good night\",\n",
    "    \"g.o.a.t\" : \"greatest of all time\",\n",
    "    \"goat\" : \"greatest of all time\",\n",
    "    \"goi\" : \"get over it\",\n",
    "    \"gps\" : \"global positioning system\",\n",
    "    \"gr8\" : \"great\",\n",
    "    \"gratz\" : \"congratulations\",\n",
    "    \"gyal\" : \"girl\",\n",
    "    \"h&c\" : \"hot and cold\",\n",
    "    \"hp\" : \"horsepower\",\n",
    "    \"hr\" : \"hour\",\n",
    "    \"hrh\" : \"his royal highness\",\n",
    "    \"ht\" : \"height\",\n",
    "    \"ibrb\" : \"i will be right back\",\n",
    "    \"ic\" : \"i see\",\n",
    "    \"icq\" : \"i seek you\",\n",
    "    \"icymi\" : \"in case you missed it\",\n",
    "    \"idc\" : \"i do not care\",\n",
    "    \"idgadf\" : \"i do not give a damn fuck\",\n",
    "    \"idgaf\" : \"i do not give a fuck\",\n",
    "    \"idk\" : \"i do not know\",\n",
    "    \"ie\" : \"that is\",\n",
    "    \"i.e\" : \"that is\",\n",
    "    \"ifyp\" : \"i feel your pain\",\n",
    "    \"IG\" : \"instagram\",\n",
    "    \"iirc\" : \"if i remember correctly\",\n",
    "    \"ilu\" : \"i love you\",\n",
    "    \"ily\" : \"i love you\",\n",
    "    \"imho\" : \"in my humble opinion\",\n",
    "    \"imo\" : \"in my opinion\",\n",
    "    \"imu\" : \"i miss you\",\n",
    "    \"iow\" : \"in other words\",\n",
    "    \"irl\" : \"in real life\",\n",
    "    \"j4f\" : \"just for fun\",\n",
    "    \"jic\" : \"just in case\",\n",
    "    \"jk\" : \"just kidding\",\n",
    "    \"jsyk\" : \"just so you know\",\n",
    "    \"l8r\" : \"later\",\n",
    "    \"lb\" : \"pound\",\n",
    "    \"lbs\" : \"pounds\",\n",
    "    \"ldr\" : \"long distance relationship\",\n",
    "    \"lmao\" : \"laugh my ass off\",\n",
    "    \"lmfao\" : \"laugh my fucking ass off\",\n",
    "    \"lol\" : \"laughing out loud\",\n",
    "    \"ltd\" : \"limited\",\n",
    "    \"ltns\" : \"long time no see\",\n",
    "    \"m8\" : \"mate\",\n",
    "    \"mf\" : \"motherfucker\",\n",
    "    \"mfs\" : \"motherfuckers\",\n",
    "    \"mfw\" : \"my face when\",\n",
    "    \"mofo\" : \"motherfucker\",\n",
    "    \"mph\" : \"miles per hour\",\n",
    "    \"mr\" : \"mister\",\n",
    "    \"mrw\" : \"my reaction when\",\n",
    "    \"ms\" : \"miss\",\n",
    "    \"mte\" : \"my thoughts exactly\",\n",
    "    \"nagi\" : \"not a good idea\",\n",
    "    \"nbc\" : \"national broadcasting company\",\n",
    "    \"nbd\" : \"not big deal\",\n",
    "    \"nfs\" : \"not for sale\",\n",
    "    \"ngl\" : \"not going to lie\",\n",
    "    \"nhs\" : \"national health service\",\n",
    "    \"nrn\" : \"no reply necessary\",\n",
    "    \"nsfl\" : \"not safe for life\",\n",
    "    \"nsfw\" : \"not safe for work\",\n",
    "    \"nth\" : \"nothing\",\n",
    "    \"nvr\" : \"never\",\n",
    "    \"nyc\" : \"new york city\",\n",
    "    \"oc\" : \"original content\",\n",
    "    \"og\" : \"original\",\n",
    "    \"ohp\" : \"overhead projector\",\n",
    "    \"oic\" : \"oh i see\",\n",
    "    \"omdb\" : \"over my dead body\",\n",
    "    \"omg\" : \"oh my god\",\n",
    "    \"omw\" : \"on my way\",\n",
    "    \"p.a\" : \"per annum\",\n",
    "    \"p.m\" : \"after midday\",\n",
    "    \"pm\" : \"prime minister\",\n",
    "    \"poc\" : \"people of color\",\n",
    "    \"pov\" : \"point of view\",\n",
    "    \"pp\" : \"pages\",\n",
    "    \"ppl\" : \"people\",\n",
    "    \"prw\" : \"parents are watching\",\n",
    "    \"ps\" : \"postscript\",\n",
    "    \"pt\" : \"point\",\n",
    "    \"ptb\" : \"please text back\",\n",
    "    \"pto\" : \"please turn over\",\n",
    "    \"qpsa\" : \"what happens\", #\"que pasa\",\n",
    "    \"ratchet\" : \"rude\",\n",
    "    \"rbtl\" : \"read between the lines\",\n",
    "    \"rlrt\" : \"real life retweet\",\n",
    "    \"rofl\" : \"rolling on the floor laughing\",\n",
    "    \"roflol\" : \"rolling on the floor laughing out loud\",\n",
    "    \"rotflmao\" : \"rolling on the floor laughing my ass off\",\n",
    "    \"rt\" : \"retweet\",\n",
    "    \"ruok\" : \"are you ok\",\n",
    "    \"sfw\" : \"safe for work\",\n",
    "    \"sk8\" : \"skate\",\n",
    "    \"smh\" : \"shake my head\",\n",
    "    \"sq\" : \"square\",\n",
    "    \"srsly\" : \"seriously\",\n",
    "    \"ssdd\" : \"same stuff different day\",\n",
    "    \"tbh\" : \"to be honest\",\n",
    "    \"tbs\" : \"tablespooful\",\n",
    "    \"tbsp\" : \"tablespooful\",\n",
    "    \"tfw\" : \"that feeling when\",\n",
    "    \"thks\" : \"thank you\",\n",
    "    \"tho\" : \"though\",\n",
    "    \"thx\" : \"thank you\",\n",
    "    \"tia\" : \"thanks in advance\",\n",
    "    \"til\" : \"today i learned\",\n",
    "    \"tl;dr\" : \"too long i did not read\",\n",
    "    \"tldr\" : \"too long i did not read\",\n",
    "    \"tmb\" : \"tweet me back\",\n",
    "    \"tntl\" : \"trying not to laugh\",\n",
    "    \"ttyl\" : \"talk to you later\",\n",
    "    \"u2\" : \"you too\",\n",
    "    \"u4e\" : \"yours for ever\",\n",
    "    \"utc\" : \"coordinated universal time\",\n",
    "    \"w/\" : \"with\",\n",
    "    \"w/o\" : \"without\",\n",
    "    \"w8\" : \"wait\",\n",
    "    \"wassup\" : \"what is up\",\n",
    "    \"wb\" : \"welcome back\",\n",
    "    \"wtf\" : \"what the fuck\",\n",
    "    \"wtg\" : \"way to go\",\n",
    "    \"wtpa\" : \"where the party at\",\n",
    "    \"wuf\" : \"where are you from\",\n",
    "    \"wuzup\" : \"what is up\",\n",
    "    \"wywh\" : \"wish you were here\",\n",
    "    \"yd\" : \"yard\",\n",
    "    \"ygtr\" : \"you got that right\",\n",
    "    \"ynk\" : \"you never know\",\n",
    "    \"zzz\" : \"sleeping bored and tired\",\n",
    "\n",
    "    \"act blur\": \"act ignorant\",\n",
    "    \"agak agak\": \"rough estimate\",\n",
    "    \"aiyoh\": \"An expression of surprise, and/or annoyance\",\n",
    "    \"alamak\": \"oh my gosh\",\n",
    "    \"arrow\": \"to dump a task on someone else, rather than complete it yourself\",\n",
    "    \"atas\": \"to be posh or of high social status\",\n",
    "    \"bo chap\": \"don't care in Hokkien, referring to someone being indifferent\",\n",
    "    \"bo jio\": \"Hokkien for not getting an invitation\",\n",
    "    \"bo liao\": \"feeling bored or idle like there's nothing better to do\",\n",
    "    \"bo leh\": \"a malay word for 'can', or 'possible'\",\n",
    "    \"can or not\": \"a way of asking if something is possible or can be achieved\",\n",
    "    \"can a not\": \"a way of asking if something is possible or can be achieved\",\n",
    "    \"catch no ball\": \"to be absolutely clueless\",\n",
    "    \"cheem\": \"something that has you dumbfounded, perplexed, bewildered or confused\",\n",
    "    \"chiong\": \"to rush, to hurry, or to give your all to complete something\",\n",
    "    \"chope\": \"to reserve a place or call dibs on something\",\n",
    "    \"cmi\": \"the abbreviation for “cannot make it” refers to the inferior attributes of someone (or something)\",\n",
    "    \"come, I clap for you\": \"a sarcastic way of praising someone\",\n",
    "    \"diam\": \"used to tell someone to shut up, typically in an angry way\",\n",
    "    \"die die must\": \"possibly to express something that is so good\",\n",
    "    \"eh\": \"a way to address people or get their attention\",\n",
    "    \"eye power\": \"someone who does not extend help. Instead, they just stand around and stare as if their eyes can offer assistance\",\n",
    "    \"geh kiang\": \"someone who acts rashly and without thought\",\n",
    "    \"gong\": \"crazy\",\n",
    "    \"huat\": \"to prosper\",\n",
    "    \"jia lat\": \"nothing is going your way\",\n",
    "    \"kaypoh\": \"to be a busybody\",\n",
    "    \"kpoh\": \"to be a busybody\",\n",
    "    \"kena\": \"to describe being affected by or to receive something negative\",\n",
    "    \"kiasu\": \"a fiercely competitive spirit in a negative connotation\",\n",
    "    \"kiasi\": \"scared to death or too afraid of failing\",\n",
    "    \"lah\": \"a suffix used to emphasize the sentence or word before\",\n",
    "    \"leh\": \"use 'leh' when something is unsure---it's more like a question\",\n",
    "    \"lepak\": \"chilling without a care in the world or loitering around aimlessly\",\n",
    "    \"lobang\": \"tips, clues, opportunities or deals\",\n",
    "    \"lor\": \"it holds a sense of resignation and finality\",\n",
    "    \"makan\": \"eat\",\n",
    "    \"nia\": \"used to substitute only, often used to belittle something or someone\",\n",
    "    \"own time own target\": \"to do things at your own pace\",\n",
    "    \"otot\": \"to do things at your own pace\",\n",
    "    \"paiseh\": \"embarrassed or shy\",\n",
    "    \"pai seh\": \"embarrassed or shy\",\n",
    "    \"pang seh\": \"to stand someone up or to cop out\",\n",
    "    \"ponteng\": \"playing truant, but it can be used if you want to give anything a miss\",\n",
    "    \"sabo\": \"sabotage\",\n",
    "    \"shag\": \"to feel tired or exhausted\",\n",
    "    \"shiok\": \"fantastic or to convey feelings of satisfaction and pleasure\",\n",
    "    \"sian\": \"experiencing boredom, a lack of enthusiasm or just being tired of life\",\n",
    "    \"sian\": \"crazy\",\n",
    "    \"spoil market\": \"a singlish term for overachieving\",\n",
    "    \"steady\": \"it can take on different meanings, including agreeing with someone, giving them praise or being in a romantic relationship with a partner\",\n",
    "    \"swee\": \"a compliment to describe something as beautiful or perfect\",\n",
    "    \"tak boleh tahan\": \"something is intolerable\",\n",
    "    \"buay tahan\": \"something is intolerable\",\n",
    "    \"tapao\": \"takeaway or failing a subject\",\n",
    "    \"dapao\": \"takeaway or failing a subject\",\n",
    "    \"tolong\": \"a cry for help\",\n",
    "    \"ulu\": \"somewhere secluded and inaccessible\",\n",
    "    \"walao\": \"an expression of shock, disbelief or dismay\",\n",
    "    \"wayang\": \"used to describe someone who's being fake\",\n",
    "    \"White horse\": \"the child of an influential or powerful person (usually used among men in National Service)\",\n",
    "    \"ns\": \"national service where boys serve the army at the age of 18 for two years\",\n",
    "    \"NS\": \"national service where boys serve the army at the age of 18 for two years\",\n",
    "    \"zhng\": \"to modify, embellish, or redecorate\",\n",
    "    \"zng\": \"to modify, embellish, or redecorate\",\n",
    "}\n"
   ]
  },
  {
   "cell_type": "markdown",
   "metadata": {},
   "source": [
    "\n",
    "- Paper: This Word Mean What: Constructing a Singlish Dictionary with ChatGPT, https://aclanthology.org/2024.eurali-1.7.pdf\n",
    "- GitHub: https://github.com/singdict/SingDict"
   ]
  },
  {
   "cell_type": "code",
   "execution_count": null,
   "metadata": {},
   "outputs": [],
   "source": [
    "folder_path = \"../../../SingDict/vocabulary\" # see github link above\n",
    "\n",
    "merged_dict = {}\n",
    "\n",
    "# Loop through all JSONL files in the folder\n",
    "for file_name in sorted(os.listdir(folder_path)):\n",
    "    if file_name.endswith(\".jsonl\"):\n",
    "        file_path = os.path.join(folder_path, file_name)\n",
    "\n",
    "        with open(file_path, \"r\", encoding=\"utf-8\") as f:\n",
    "            for line in f:\n",
    "                json_data = json.loads(line.strip())\n",
    "\n",
    "                word = json_data[\"Word\"]\n",
    "                Definition = json_data[\"Definition\"]\n",
    "\n",
    "                merged_dict[word] = Definition"
   ]
  },
  {
   "cell_type": "code",
   "execution_count": null,
   "metadata": {},
   "outputs": [
    {
     "name": "stdout",
     "output_type": "stream",
     "text": [
      "{'$': ' dollar ', '€': ' euro ', '4ao': 'for adults only', 'a.m': 'before midday', 'a3': 'anytime anywhere anyplace', 'aamof': 'as a matter of fact', 'acct': 'account', 'adih': 'another day in hell', 'afaic': 'as far as i am concerned', 'afaict': 'as far as i can tell', 'afaik': 'as far as i know', 'afair': 'as far as i remember', 'afk': 'away from keyboard', 'app': 'application', 'approx': 'approximately', 'apps': 'applications', 'asap': 'as soon as possible', 'asl': 'age, sex, location', 'atk': 'at the keyboard', 'ave.': 'avenue', 'aymm': 'are you my mother', 'ayor': 'at your own risk', 'b&b': 'bed and breakfast', 'b+b': 'bed and breakfast', 'b.c': 'before christ', 'b2b': 'business to business', 'b2c': 'business to customer', 'b4': 'before', 'b4n': 'bye for now', 'b@u': 'back at you', 'bae': 'before anyone else', 'bak': 'A popular Hokkien word for meat used in Singlish.', 'bbbg': 'bye bye be good', 'bbc': 'british broadcasting corporation', 'bbias': 'be back in a second', 'bbl': 'be back later', 'bbs': 'be back soon', 'be4': 'before', 'bfn': 'bye for now', 'blvd': 'boulevard', 'bout': 'about', 'brb': 'be right back', 'bros': 'brothers', 'brt': 'be right there', 'bsaaw': 'big smile and a wink', 'btw': 'by the way', 'bwl': 'bursting with laughter', 'c/o': 'care of', 'cet': 'central european time', 'cf': 'compare', 'cia': 'central intelligence agency', 'csl': 'can not stop laughing', 'cu': 'see you', 'cul8r': 'see you later', 'cv': 'curriculum vitae', 'cwot': 'complete waste of time', 'cya': 'see you', 'cyt': 'see you tomorrow', 'dae': 'does anyone else', 'dbmib': 'do not bother me i am busy', 'diy': 'do it yourself', 'dm': 'direct message', 'dwh': 'during work hours', 'e123': 'easy as one two three', 'eet': 'eastern european time', 'eg': 'example', 'embm': 'early morning business meeting', 'encl': 'enclosed', 'encl.': 'enclosed', 'etc': 'and so on', 'faq': 'frequently asked questions', 'fawc': 'for anyone who cares', 'fb': 'facebook', 'fc': 'fingers crossed', 'fig': 'figure', 'fimh': 'forever in my heart', 'ft.': 'feet', 'ft': 'featuring', 'ftl': 'for the loss', 'ftw': 'for the win', 'fwiw': 'for what it is worth', 'fyi': 'for your information', 'g9': 'genius', 'gahoy': 'get a hold of yourself', 'gal': 'get a life', 'gcse': 'general certificate of secondary education', 'gfn': 'gone for now', 'gg': 'good game', 'gl': 'good luck', 'glhf': 'good luck have fun', 'gmt': 'greenwich mean time', 'gmta': 'great minds think alike', 'gn': 'good night', 'g.o.a.t': 'greatest of all time', 'goat': 'greatest of all time', 'goi': 'get over it', 'gps': 'global positioning system', 'gr8': 'great', 'gratz': 'congratulations', 'gyal': 'girl', 'h&c': 'hot and cold', 'hp': 'horsepower', 'hr': 'hour', 'hrh': 'his royal highness', 'ht': 'height', 'ibrb': 'i will be right back', 'ic': 'i see', 'icq': 'i seek you', 'icymi': 'in case you missed it', 'idc': 'i do not care', 'idgadf': 'i do not give a damn fuck', 'idgaf': 'i do not give a fuck', 'idk': 'i do not know', 'ie': 'that is', 'i.e': 'that is', 'ifyp': 'i feel your pain', 'IG': 'instagram', 'iirc': 'if i remember correctly', 'ilu': 'i love you', 'ily': 'i love you', 'imho': 'in my humble opinion', 'imo': 'in my opinion', 'imu': 'i miss you', 'iow': 'in other words', 'irl': 'in real life', 'j4f': 'just for fun', 'jic': 'just in case', 'jk': 'just kidding', 'jsyk': 'just so you know', 'l8r': 'later', 'lb': 'pound', 'lbs': 'pounds', 'ldr': 'long distance relationship', 'lmao': 'laugh my ass off', 'lmfao': 'laugh my fucking ass off', 'lol': 'laughing out loud', 'ltd': 'limited', 'ltns': 'long time no see', 'm8': 'mate', 'mf': 'motherfucker', 'mfs': 'motherfuckers', 'mfw': 'my face when', 'mofo': 'motherfucker', 'mph': 'miles per hour', 'mr': 'mister', 'mrw': 'my reaction when', 'ms': 'miss', 'mte': 'my thoughts exactly', 'nagi': 'not a good idea', 'nbc': 'national broadcasting company', 'nbd': 'not big deal', 'nfs': 'not for sale', 'ngl': 'not going to lie', 'nhs': 'national health service', 'nrn': 'no reply necessary', 'nsfl': 'not safe for life', 'nsfw': 'not safe for work', 'nth': 'nothing', 'nvr': 'never', 'nyc': 'new york city', 'oc': 'original content', 'og': 'original', 'ohp': 'overhead projector', 'oic': 'oh i see', 'omdb': 'over my dead body', 'omg': 'oh my god', 'omw': 'on my way', 'p.a': 'per annum', 'p.m': 'after midday', 'pm': 'prime minister', 'poc': 'people of color', 'pov': 'point of view', 'pp': 'pages', 'ppl': 'people', 'prw': 'parents are watching', 'ps': 'postscript', 'pt': 'point', 'ptb': 'please text back', 'pto': 'please turn over', 'qpsa': 'what happens', 'ratchet': 'rude', 'rbtl': 'read between the lines', 'rlrt': 'real life retweet', 'rofl': 'rolling on the floor laughing', 'roflol': 'rolling on the floor laughing out loud', 'rotflmao': 'rolling on the floor laughing my ass off', 'rt': 'retweet', 'ruok': 'are you ok', 'sfw': 'safe for work', 'sk8': 'skate', 'smh': 'shake my head', 'sq': 'square', 'srsly': 'seriously', 'ssdd': 'same stuff different day', 'tbh': 'to be honest', 'tbs': 'tablespooful', 'tbsp': 'tablespooful', 'tfw': 'that feeling when', 'thks': 'thank you', 'tho': 'though', 'thx': 'thank you', 'tia': 'thanks in advance', 'til': 'today i learned', 'tl;dr': 'too long i did not read', 'tldr': 'too long i did not read', 'tmb': 'tweet me back', 'tntl': 'trying not to laugh', 'ttyl': 'talk to you later', 'u2': 'you too', 'u4e': 'yours for ever', 'utc': 'coordinated universal time', 'w/': 'with', 'w/o': 'without', 'w8': 'wait', 'wassup': 'what is up', 'wb': 'welcome back', 'wtf': 'what the fuck', 'wtg': 'way to go', 'wtpa': 'where the party at', 'wuf': 'where are you from', 'wuzup': 'what is up', 'wywh': 'wish you were here', 'yd': 'yard', 'ygtr': 'you got that right', 'ynk': 'you never know', 'zzz': 'sleeping bored and tired', 'act blur': \"To pretend to be unaware of something or to feign ignorance in order to avoid responsibility, confrontation or to evade answering questions.The term 'act blur' is a slang phrase commonly used in Singapore and Malaysia. It is a combination of two English words 'act' meaning to pretend and 'blur' meaning to be unclear or not understanding something. The phrase 'act blur' is frequently used in informal settings to describe someone who is trying to avoid responsibility or to get away from answering a difficult question. It is also commonly used in workplace or school settings when one wishes to avoid getting into trouble. However, the phrase can also have negative connotations and may be seen as a form of dishonesty.\", 'agak agak': 'Redirect to agak', 'aiyoh': \"An expression of exasperation, dismay or frustration. An expression of sympathy or empathy. An expression of surprise or shock. 'Aiyoh' is a common interjection in Singlish that is used to communicate a wide range of emotions depending on the context and tone of the speaker. It can be used in a humorous or sarcastic manner to indicate disbelief or feigned surprise. It may also be used to show sympathy or empathy in response to someone's story or situation. The expression is usually drawn out, with a high-pitched intonation on the first syllable followed by a falling intonation on the second syllable.\", 'alamak': 'a exclamation used to indicate shock, astonishment, disbelief or exasperation [Singlish/others]', 'arrow': 'To get someone to do something, usually without offering anything in return or showing consideration for their feelings.', 'atas': 'Atas is a Singlish term that means \"haughty\" or \"snobbish,\" often used to describe someone who is acting or behaving in an elitist or pretentious manner. Additionally, it can also refer to something that is high-end or posh, such as a luxurious restaurant or an expensive brand. Note: Atas is derived from the Malay language, where it means \"upper class\" or \"high society.\" In Singlish, it has taken on a slightly negative connotation due to its association with snobbery and elitism.', 'bo chap': 'The Singlish word \"bo chap\" is commonly used in Singapore and Malaysia as an adjective to describe someone who is indifferent, nonchalant, or does not care about something. It can also be used to describe a situation where there is a lack of interest or concern.', 'bo jio': 'To leave someone out from an event or activity by not inviting them. (Wiktionary)', 'bo liao': 'Boring. From Hokkien 無聊／无聊. (Wiktionary)', 'bo leh': \"a malay word for 'can', or 'possible'\", 'can or not': 'a way of asking if something is possible or can be achieved', 'can a not': 'a way of asking if something is possible or can be achieved', 'catch no ball': 'To not understand or be confused about a situation or topic. Note: This is a common Singlish phrase that originated from the game of cricket. It has now evolved to be more commonly used in everyday conversation.', 'cheem': 'A Singlish word used to describe something that is difficult to understand or comprehend. It is often used to describe language or concepts that are complex or complicated, or when the speaker is struggling to grasp something. Note: This word is commonly used in Singapore and Malaysia, but may not be easily understood by those unfamiliar with Singlish.', 'chiong': 'It is typically used as a verb to describe the act of going all out, pushing oneself to the limit, or engaging in a thrilling and high-energy activity. The term can also be used to convey a sense of urgency or the need to hurry.', 'chope': 'to reserve a place or call dibs on something', 'cmi': 'the abbreviation for “cannot make it” refers to the inferior attributes of someone (or something)', 'come, I clap for you': 'a sarcastic way of praising someone', 'diam': 'used to tell someone to shut up, typically in an angry way', 'die die must': 'possibly to express something that is so good', 'eh': ' \"Eh\" is a commonly used particle in Singlish, and its usage can vary based on the context and intonation. \\n\\n1. Pronounced with a sharp falling tone, \"eh\"  can be used to get someone\\'s attention, similar to \"hey\".\\n2. \"eh\" can also be pronounced with a low tone to convey a somewhat disapproving attitude', 'eye power': 'A description of the action of just looking and not contributing.', 'geh kiang': 'someone who acts rashly and without thought', 'gong': 'crazy', 'huat': 'to prosper', 'jia lat': 'nothing is going your way', 'kaypoh': 'to be a busybody', 'kpoh': 'to be a busybody', 'kena': 'to hit or to be affected by something (usually negative)', 'kiasu': 'Describes a person who is afraid to lost out to others', 'kiasi': 'scared to death or too afraid of failing', 'lah': \"Lah has different meanings depending on its tone:\\n1. The low tone lah (tone 4) has a property of softening the statement.\\n2. The falling tone lah (similar to mandarin's ̀ ) is used for emphasis.\", 'leh': 'Leh is a Singlish particle.\\n1. The high level tone leh (tone 1) is used to ask questions. It has a similar meaning to \"what about\" except it occurs after the noun.\\n2. The mid level tone leh (tone 3) is used usually to sound more convincing. It is usually used with the intention of persuasion.', 'lepak': 'chilling without a care in the world or loitering around aimlessly', 'lobang': 'tips, clues, opportunities or deals', 'lor': 'it holds a sense of resignation and finality', 'makan': 'to eat', 'nia': 'used to substitute only, often used to belittle something or someone', 'own time own target': 'to do things at your own pace', 'otot': 'to do things at your own pace', 'paiseh': 'To feel embarassed', 'pai seh': 'embarrassed or shy', 'pang seh': 'to stand someone up or to cop out', 'ponteng': 'playing truant, but it can be used if you want to give anything a miss', 'sabo': 'sabotage', 'shag': 'to feel tired or exhausted', 'shiok': 'Good, fantastic, comfortable, enjoyable, delicious', 'sian': 'crazy', 'spoil market': 'a singlish term for overachieving', 'steady': 'it can take on different meanings, including agreeing with someone, giving them praise or being in a romantic relationship with a partner', 'swee': 'a compliment to describe something as beautiful or perfect', 'tak boleh tahan': 'something is intolerable', 'buay tahan': 'Buay tahan is a Singlish phrase that expresses a feeling of being unable to endure or tolerate a particular situation or thing. It\\'s similar to the English phrase \"can\\'t stand it.\".', 'tapao': 'takeaway or failing a subject', 'dapao': 'takeaway or failing a subject', 'tolong': 'to ask for help', 'ulu': 'somewhere secluded and inaccessible', 'walao': 'an expression of shock, disbelief or dismay', 'wayang': 'Refers to Chinese street opera and other forms of opera (e.g. wayang kulit)', 'White horse': 'the child of an influential or powerful person (usually used among men in National Service)', 'ns': 'national service where boys serve the army at the age of 18 for two years', 'NS': 'national service where boys serve the army at the age of 18 for two years', 'zhng': 'to modify, embellish, or redecorate', 'zng': 'to modify, embellish, or redecorate', '007': '007 is a common shorthand in Singlish for a person who is seen as sophisticated, charming, or suave. The term was popularized by the British spy character James Bond who has a license to kill and is often seen as cool, calm, and collected. It is commonly used to describe someone who is effortlessly smooth and confident, especially in romantic situations.', '13th month': 'The term \"13th month\" is a colloquial expression commonly used in Singlish to refer to an additional month\\'s salary or bonus received by employees in addition to their regular monthly pay. This bonus typically corresponds to one month\\'s worth of salary and is often given out during the festive season, usually in December, as a token of appreciation for the employee\\'s hard work throughout the year.', 'A&E': 'A&E is an abbreviation commonly used in Singapore to refer to the medical department known as \"Accident & Emergency.\" It is a specialized department within a hospital that provides immediate and urgent medical care to individuals who are experiencing sudden illness, injuries, or emergencies.', 'AA': '1. To describe someone or something as attracting attention\\n2. An abbreviation of \"attract attention\".', 'ACS': 'ACS, short for Anglo-Chinese School, is a prestigious and well-established educational institution in Singapore. The term is commonly used to refer to any of the various schools affiliated with the ACS brand, including ACS (Barker Road), ACS (Independent), ACS (Primary), and ACS (International) among others. ACS schools are known for their rich history, academic excellence, and strong emphasis on character development and values-based education. These schools are highly regarded for their holistic approach to education, nurturing students intellectually, physically, socially, and morally. ACS schools are recognized for their strong sporting teams, performing arts programs, and community involvement.', 'AMK': 'AMK is an abbreviation commonly used in Singlish to refer to Ang Mo Kio, a residential town located in the northeastern part of Singapore.', 'AYE': 'Abbreviation of Ayer Raja Expressway. (Wiktionary)', 'adik': 'Younger sibling', 'aduh': \"An expression to express pain like 'ouch'\", 'ah beng': 'A common Chinese name in Singapore used to refer to a young Chinese man in Singapore, associated with a stereotype of having little education or sophistication and operating within secret societies and street gangs.', 'ah kong': 'Ah Kong is a Singlish term derived from Hokkien, a Chinese dialect commonly spoken in Singapore. \\n1. The term means grandfather and is also used to refer to older men in general. \\n2. It is also used to refer to the government.', 'ah long': 'Ah long is a term used in Singapore to refer to loan sharks. They are typically unlicensed moneylenders who charge very high interest rates and use harassment, intimidation, and violence to collect payments from borrowers who are unable to pay off their debts. ', 'ah mm': 'Borrowed from Hokkien 阿姆 (a-ḿ) and used to refer to a paternal aunt, or elderly women in general.', 'ah tiong': 'Ah Tiong (pronunciation: ah-tyong) is a Singlish term commonly used in Singapore to refer to someone of Chinese ethnicity, particularly those from China. This term is derived from the Hokkien dialect, which is commonly spoken by the Chinese community in Singapore. (offensive)', 'ah boy': 'A general term for a young male child or a young guy.', 'ah girl': 'A general term for a young female child or a young lady', 'ah gong': '1. Grandfather, or an elderly man.\\n2. The government', 'ah ma': 'Grandmother, or an elderly woman (similar to popo).', 'ah peh': 'ah pek', 'ah-doay': 'aduh', 'alah': 'An expression to show concern, frustration, dismay or surprise', 'ali baba bag': 'The term \"Ali Baba bag\" is commonly used in Singlish to refer to a large, spacious bag or tote bag that is often made of soft fabric or canvas material. It is named after the traditional Arabian folk tale character, Ali Baba, who famously discovered a cave full of treasures. Similar to Ali Baba\\'s cave, this versatile bag has ample space to store a variety of items and is known for its convenient, accessible design.', 'already': 'A perfective marker that indicates that the action has been completed', 'anak': '1. Child', 'archar': 'acar', 'BGR': 'BGR is a Singlish acronym that stands for \"boy-girl-relationship\". It refers to the romantic relationship between a boy and a girl. It is commonly used among teenagers and young adults in Singapore.', 'BKE': 'BKE\\\\n\\\\nPronunciation: /bee-kay-ee/\\\\n\\\\nAlternate spellings: none\\\\n\\\\nDefinition: \\\\n\\\\n1. Abbreviation for Bukit Timah Expressway, a major expressway in Singapore connecting the Pan Island Expressway (PIE) to Woodlands, passing through the western parts of the island. It is commonly used as a reference point and a key route for road travel.', 'BMT': 'BMT, short for Basic Military Training, is an acronym commonly used in Singapore to refer to the initial training program that individuals undergo upon enlisting in the Singapore Armed Forces (SAF). It is a rigorous and structured program designed to instill discipline, physical fitness, and military skills in recruits.', 'bai-bai': 'to pray', 'baju': 'Clothes', 'bak ku teh': 'bak kut teh', 'bangla': 'A Bangladeshi (offensive, racial slur). (Wiktionary)', 'bantal busuk': 'lit. smelly pillow. Refers to a small comfort pillow that children hug or carry to sleep (same as chou chou).', 'bee hoon': 'Vermicelli made of rice', 'belachan': 'Shrimp Paste, an ingredient commonly used in South-east Asian and South Chinese cuisine.', 'CB': '1. CB is a crude and vulgar Singlish acronym that stands for \"Chi Bai\", which is a slang term for female genitalia. It is an extremely offensive and derogatory term used to insult and belittle someone. \\n2. Refers to circuit breaker, the 2020 lockdown as a result of COVID.\\nCommonly used in combination with other words for example, \"CCB\".', 'CMI': 'CMI is an acronym for the colloquial phrase \"Cannot Make it\". It is often used to describe the inability to go somewhere or attend an event because of conflicting schedules or other reasons. It can also be used to describe something that is not up to par or satisfactory.', 'cai dao kueh': 'carrot cake', 'cher': 'A shortened term for teacher', 'chindian': \"Chindian refers to a person of mixed Indian and Chinese heritage. The word is a portmanteau of 'Chinese' and 'Indian'. This term is common in Singapore, especially in the context of food, where Chindian cuisine refers to dishes that fuse elements of Chinese and Indian cooking. Alternate spellings for Chindian include 'Chindinese' and 'Indo-Chinese'. This term is considered lighthearted and commonly used within the Singaporean context.\", 'ching ming festival, ching ming': \"Ching Ming Festival is a traditional Chinese festival that usually falls on April 4th or 5th. It is a day to pay respect to ancestors by cleaning their graves and offering food, burning incense, and joss paper. Ching Ming Festival is also known as Tomb Sweeping Day, and it is a time for families to reunite and honor their ancestors who have passed away. It is believed that on this day, the spirits of the deceased return to the earthly world, and thus it is important to offer these offerings to ensure their happiness and well-being. In Singapore, Ching Ming Festival is celebrated by the Chinese community, and it is a public holiday. Many families go to cemeteries or places where their ancestors' ashes are kept to perform their rituals. Alternate spellings of this festival's name include Qingming and Ch'ing Ming.\", 'chingay': \"Chingay is a cultural and colorful parade which originated in Singapore and is traditionally held during the Chinese New Year period. The word 'Chingay' comes from 妆艺, which means the art of costume and masquerade. It is a vibrant and lively procession that features dragon or lion dances, stilt-walking, fireworks, and multi-cultural performances from the Malay, Indian and Chinese communities. The parade, apart from showcasing the diverse cultures of Singaporeans and their traditions, also exhibits the country’s unity in diversity.\", 'chou chou': 'lit. smelly smelly. Refers to a small comfort pillow that children hug or carry to sleep (same as bantal busuk).', 'chukop': 'enough', 'cik': 'Short for pakcik or makcik, meaning uncle or aunt', 'd&d': 'A popular corporate or social event in Singapore. The D&D usually consists of a dinner followed by a dance party, often held as an annual celebration for employees or as a fundraising event for organizations.', 'deepavali': 'a Hindu holiday celebrating the triumph of good over evil', 'di di': 'Younger brother', 'dim sum': 'A collective term for dishes of small steamed or fried savoury dumplings containing various fillings.', 'dong dong chiang': 'Lion dance (from the sound of the music that goes with the performance)', 'dragon boat festival': 'a traditional Chinese holiday celebrated on the 5th day of the 5th month of the lunar calendar, to commemorate the sacrifices made by poet Qu Yuan', 'dumpling festival': 'dragon boat festival', 'ECP': 'East Coast Parkway (an expressway in Singapore)', 'encik': 'Term of address for men, commonly used in the military to refer to men of higher ranks. It is similar to the English title \"Mr.\" or \"Sir\"', 'foochow': 'Person from Foochow or the dialect. Often used as a type of cuisine.', 'GG': 'GG is an abbreviation commonly used in Singlish to express defeat, surrender, or acknowledgement of failure. It is derived from the English phrase \"good game\", but its usage in Singlish extends beyond the context of games. It is often used as a colloquial phrase to convey resignation or acceptance of an unfortunate outcome in various situations.', 'GSS': 'NE:oth', 'gai gai': 'to go outside for a walk or go shopping', 'gam': 'A mandarin orange, usually has thin orange skin.', 'garang-guni': 'Rag and bone man, a person who collects and trades discarded or waste materials, such as old newspapers, cardboard boxes, bottles, and metal scrap, for a living', 'goreng pisang': 'A snack made of banana, covered in batter, deep fried in hot cooking oil.', 'gu ji': 'to tickle', 'gula melaka': \"lit. 'sugar malacca'. Palm sugar syrup, usually used in making desserts.\", 'hakka yong tau fu': 'A variety of Yong tau fu where the vegetables or tofu are stuffed with minced pork instead of fish.', 'hari raya haji': 'Hari Raya Haji is a Muslim festival that is celebrated to commemorate the end of the annual pilgrimage to Mecca (Hajj). It is also known as the Feast of Sacrifice or Eid al-Adha. The festival involves sacrificing an animal, usually a goat or sheep, and distributing the meat to family, friends, and the less fortunate.', 'hari raya puasa': 'A public holiday that celebrates the end of the Islamic holy month of Ramadan, during which Muslims fast from dawn until dusk. This holiday is commonly known as Eid al-Fitr in other parts of the world. During Hari Raya Puasa, Muslims visit their families and friends, exchange gifts and eat traditional foods such as ketupat (rice cakes) and rendang (spicy meat dish). It is a time of celebration and forgiveness, and Muslims will often ask for forgiveness from those they have wronged during the past year.', 'hentam': 'to hit or beat', 'hijab': 'A type of headware worn by muslim women to cover their hair', 'hokchew, hokchiew': 'a term commonly used in Singapore to refer to individuals who are of Hokkien (a dialect group originating from Fujian province in China) descent, but speaks a variant of the Hokkien dialect known as the Hokchew dialect.', 'hokkien mee, hokkien fried mee': 'Hokkien mee is a popular stir-fried noodle dish in Singapore. It is made using thick yellow noodles and thin rice vermicelli, which are stir-fried with pork, prawns, squids and vegetables in a sauce made from soy sauce and garlic. The dish is often topped with crispy fried pork lard cubes and served with a side of sambal chili sauce and lime.', 'hokkien': 'a dialect of the Chinese language spoken in various regions of Fujian province in China, as well as in Taiwan and Southeast Asian countries such as Singapore and Malaysia. It is a form of Min Nan Chinese and is also known as Quanzhang or Southern Min.', 'hor fun': 'Short, flat rice noodles typically in thick gravy', 'hungry ghost festival': 'a traditional Buddhist and Taoist festival held in the seventh month of the Chinese calendar, when it is believed that ghosts and spirits will visit the living realm', 'ice kacang': 'A shaved ice dessert usually served with red beans, cream corn, coloured syrup, atap seed.', 'ikan bilis': 'Ikan bilis is a common term used in Singlish which refers to small dried anchovies. These tiny, silver-colored fish are a popular ingredient in many traditional Malay and Singaporean dishes. Ikan bilis is widely used for its unique flavor and as a crunchy ingredient in various cuisines.', 'jajan': 'A term for snacks', 'jalan jalan': 'To go outside for a walk or go shopping (similar to gai gai)', 'jie jie': 'Older sister', 'kecap manis': 'A sweetened aromatic soy sauce.', 'keropok': 'A deep-fried prawn- or fish-flavoured cracker', 'kiap kiap': 'Tongs, or tools of a similar shape', 'kiap': 'To squeeze tight', 'kopi': 'Coffee, esp. with milk and sugar, or sweetened condensed milk', 'kor kor': 'Older brother', 'kueh tu tu': 'A small, flat, white steamed cakes filled with orange-coloured sweetened shredded coconut or other ingredients, made using a mould with a scalloped pattern', 'kueh': 'A generic name for cakes and puddings, esp. of Malay and Peranakan origin', 'kway teow': 'a flat rice noodle with thin and thick varieties', 'lom chiam pas': 'A children’s game in which the players form various ‘signs’ or gestures (scissors, paper, stone) with their hands (same as oh peh som).', 'maggi': 'Noodles, instant noodles', 'mama shop': 'A general provision shop, usually found at the void deck of a HDB block', 'mamak': '1. An open air indian muslim store, typically selling things like roti prata\\n2. A general provision shop, usually found at the void deck of a HDB block (same as mama shop).', 'mantou': 'A plain bun that can be steamed or fried and can contain various fillings.', 'mee chiang kueh': 'A hawker-style pancake, usually with peanut or shredded coconut filling.', 'mei mei': 'Younger sister', 'na': 'Expression to denote an action of giving or location of item to be taken', 'nangka': 'jackfruit', 'nasi': 'rice', 'nenek': 'Grandma', 'off': 'to switch off', 'oh peh som': 'A children’s game in which the players form various ‘signs’ or gestures (scissors, paper, stone) with their hands (same as lom chiam pas)', 'on': 'to switch on', 'orh cheh': 'a bruise', 'orh-hor': 'An expression similar to \"You\\'re in trouble.\"', 'pandan': 'A green fragrant leaf, used often for cooking and baking.', 'pau': 'A small savoury or sweet steamed bun with filling.', 'penang char kway teow': 'A popular Malaysian fried noodle dish that originated from the state of Penang. It is made of flat rice noodles stir-fried with shrimp, cockles, bean sprouts, Chinese chives, and egg, in a savory and slightly sweet sauce. The dish is known for its smoky wok hei flavor, which is achieved by cooking it over high heat. It is commonly eaten as a hawker food or sold at food courts in Singapore.', 'peng': 'Rice', 'popo': 'Grandmother, or an elderly woman (similar to ah ma).', 'pui': 'to spit', 'putu mayam': 'An Indian sweet consisting of a steamed rice-cake pressed through a perforated mould, served with shredded coconut and sugar.', 'roti prata': 'North Indian pancake', 'roti': 'Bread', 'satay': 'Barbecued skewers of meat, usually served with savoury peanut sauce', 'sayang': '1. Dear\\n2. To gently stroke or pat', 'see lah': \"An expression with a similar meaning to 'I told you so'\", 'see': 'see lah', 'sekali': 'Supposing, what if', 'siao': 'Crazy, out of your mind', 'suka suka': 'In a manner as one pleases; not caring about the consequences.', 'susu': 'Milk', 'tabao': 'To get food packed as a takeaway', 'tau huey zui': 'Soy bean milk', 'tau huey': 'Beancurd, usually sweetened', 'teh': 'Tea, usually red or black.', 'tong tong': 'Onomatopoeia for piggy bank', 'tudung': 'A type of headware worn by muslim women to cover their hair', 'tzap': 'Sauce or gravy', 'uncle': 'A middle-aged or elderly man who may or may not be a relative', 'yong tau foo': 'A type of Chinese food consisting of pieces of beancurd and certain vegetables such as bittergourd, brinjal, chillies and ladies’ fingers stuffed with minced fish or pork, which are either served dry or in soup and with or without noodles', 'abang': 'Abang is a Singaporean colloquial term used to refer to an older brother or a male elder. It can also be used as a term of endearment for a male friend or partner.', 'acar': 'A type of Asian pickled vegetable dish, commonly found in Singapore and Malaysia, made with a mixture of vegetables such as carrots, cucumbers and cabbage, that have been pickled in vinegar and spices.', 'action': 'Used to describe a person who is lively, enthusiastic, and enthusiastic about something. Also used as a noun to describe an event or activity that is exciting or entertaining. In Singlish, \"action\" is often used in the context of describing an animated or exciting personality or event. It is a commonly used term, and is pronounced with the emphasis on the first syllable (\"ak-shun\").', 'adoi': 'An expression of annoyance, frustration, or pain; an exclamation of discomfort. \"Adoi\" is believed to have originated from the Malay language, in which it means \"ouch\" or \"oh no\". It has since been adopted into Singlish and is commonly used to express discomfort or frustration. The pronunciation of \"adoi\" varies depending on the speaker\\'s accent and emphasis. It can be pronounced with a long \"a\" sound (ah-doy) or a short \"a\" sound (uh-doy).', 'agak': \"Agak is a term commonly used in Singlish that means 'estimate' or 'guess'. It can be used in a variety of situations, such as when trying to figure out a price or time frame, or when making an approximation based on limited information. Agak is often used in combination with other Singlish terms, such as 'agak-agak' (roughly estimating) or 'agak-ed' (already estimated).\\\\n- The pronunciation of 'agak' is similar to the English word 'ah' followed by the word 'gahk'.\", 'agar-agar': '1. A gelatinous substance obtained from certain types of seaweed, used as a thickening agent in food and drinks.\\n2. Commonly referred to as \"jelly\" in Singaporean English\\nAgar-agar is a commonly used ingredient in Asian desserts, especially in Singapore, and can come in various flavours and colours.', 'agar-ation': 'Redirect to agak', 'agaration': 'A guess or estimate. Derived from the word agak and the English suffix -ation.', 'ah chek': 'Ah Chek is a term commonly used in Singapore\\'s Hokkien (a Chinese dialect) community to address an elderly man. It is a term of respect and endearment that is often used in informal social settings such as in hawker centers or at family gatherings. In Hokkien, \"ah\" is a prefix that is often added to a person\\'s name or relationship to denote familiarity or affection. \"Chek,\" on the other hand, is a slang term that refers to an older man who is more experienced or knowledgeable.', 'ah gua': 'A Singlish slang term used to describe a man who is effeminate in mannerisms, fashion, or behavior. Often derogatory or used in a discriminatory manner.', 'ah kor': 'Ah kor is a colloquial term used in Singapore to refer to an older brother or elder male friend. The term is commonly used among male friends or acquaintances who share a close relationship or kinship. Ah kor is a term of respect and endearment, although it can also be used in a teasing or mocking manner in certain contexts. The term \"ah kor\" is derived from the Hokkien dialect, which is commonly spoken in Singapore. The word \"ah\" used before \"kor\", is an affectionate term that is often added before titles or nicknames - such as \"Ah boy\" or \"Ah chek\" - as a sign of respect and closeness.', 'ah kua': 'ah gua', 'ah lian': \"Ah Lian is a term commonly used in Singapore to describe a type of young woman who likes to dress in flashy or gaudy clothing, wear heavy make-up, and speak in a loud and brash manner. Ah Lians are often associated with lower-income or working-class backgrounds, and their behaviour is often seen as a form of rebellion against societal norms. Ah Lian can be used both as a noun and an adjective, depending on the context. It is typically used in a colloquial or informal setting and is often considered a derogatory term.\\\\n\\\\nNote: The use of the term 'Ah Lian' can be offensive to some individuals, particularly those who identify as part of the working-class or lower-income group. As with all colloquial expressions, it is important to be mindful of the context and audience when using this term.\", 'ah long san': 'Ah Long', 'ah neh': 'To exclude anyway', 'ah pek': 'Ah Pek is a commonly used term in Singlish to refer to an older Chinese man, typically in his middle-aged or elderly years. The term \"Ah Pek\" is derived from the Hokkien dialect', 'ah pui': 'Ah Pui is a term commonly used in Singlish to describe someone who is chubby or overweight.', 'ah qua': 'ah kua', 'ah soh': 'Ah soh is a term used in Singaporean English to describe middle-aged or elderly women. Ah soh is often used as an affectionate term, but can also be used in a mocking tone to describe someone who is dressed in a gaudy or outdated fashion. The term is derived from Hokkien, a Chinese dialect commonly spoken in Singapore, and simply means \"auntie\".', 'ah-balling': 'Ah-balling is a term used in Singlish to describe a traditional Chinese dessert made from glutinous rice flour and filled with sweet black sesame paste, crushed peanuts, or red bean paste. It is typically served in a warm ginger soup.', 'ah': 'Ah is an ubiquitous word in Singlish that serves multiple purposes. \\n1) Ah is used in nicknames when addressing people. This ah is usually pronounced with a mid level tone. (tone 3)\\n2) Ah is also a particle. With a rising tone, ah is used with imperatives to soften commands and reduce distance and can help to promote a reply when used with questions. (tone 2)\\n3) The rising tone ah also serves as a topic marker. (tone 2)\\n4) Themid tone ah marks a question that is looking for confirmation from the hearer. (tone 3)', 'air-con': 'Air-con is a Singaporean English term for air conditioning. It refers to a system that cools or dehumidifies indoor air. Air-con is widely used in Singapore due to the hot and humid weather. The term \"air-con\" is an abbreviation of \"air conditioning\" and is commonly used in Singapore and other Southeast Asian countries. Pronunciation may vary based on the speaker\\'s dialect and accent.', 'air-level': 'A common term used in Singapore to describe someone who thinks highly of themselves, often considering themselves to be superior to others. It can also be used to describe someone who talks or behaves in an arrogant manner.', 'aiya': 'redirect to \"aiyah\" (but maybe use this spelling)', 'aiyah': '“Aiyah” is a commonly used interjection in Singapore English that expresses a feeling of disappointment, frustration, or exasperation. It can be used in response to a minor inconvenience, mistake, or disappointment. The pronunciation of “aiyah” is similar to “ai-ya” with the stress on the second syllable. The first syllable is pronounced as a short “a” while the second syllable starts with a long “i” sound. Overall, “aiyah” is a versatile and commonly used expression in Singapore English that conveys a range of negative emotions.', 'aiyo': 'Redirect to \"aiyo\"', 'akshen aje': \"Akshen aje' is a Singlish phrase that means to do something without any particular reason or purpose, or to do something just for the sake of doing it. It can also imply a lack of seriousness or commitment towards a task or action. The phrase derives from the English word 'action' and the Malay word 'aje' which means only. Note: 'Akshen aje' is a casual and colloquial phrase that is typically used in informal settings or conversations with friends and family.\", 'am': 'An onomatopeia to represent the act of swllowing. Often used on babies or young children', 'amacam': 'A colloquial expression commonly used in Singapore to ask \"What\\'s up?\" or \"What\\'s going on?\" Often said in a friendly and casual manner, it is a shortened version of the Malay phrase \"apa macam\" which means \"how\" or \"what kind\". Sometimes spelled as \"amkam\" or \"ammacam\".', 'amah': 'A female domestic helper; a maid.', 'ang ku kueh': \"A small, oval-shaped Chinese pastry made with glutinous rice flour and filled with sweet bean paste or peanut filling. The pastry is usually stamped with a design of a tortoise shell on its top and is commonly served during festive occasions such as baby's full moon party or weddings.\", 'ang moh': 'Used to describe a Caucasian or white person, primarily of European descent. It is a slang term commonly used in Singapore, Malaysia, and Brunei. The word \"ang\" means \"red\" in Hokkien while \"moh\" is derived from the Chinese word \"毛,\" meaning \"hair\" or \"fur\". Note: Please note that the term \"ang moh\" is deemed offensive by some white people, so it\\'s best to use this term only when necessary and with caution.', 'ang pow': 'Ang pow is a term commonly used in Singapore and Malaysia to refer to a traditional gift of money given during special occasions, particularly during Chinese New Year, weddings, and other celebratory events. Derived from Hokkien (a Chinese dialect), it literally translates to \"red packet\" or \"red envelope\" in English.', 'angkat bola': 'Sure, \"angkat bola\" is a Singlish term that translates to \"lift ball\" in English. It is a metaphorical expression that means to flatter or suck up to someone in order to gain favor or advantage. For example, if someone says, \"I think you\\'re the smartest person in the room,\" that could be considered \"angkat bola.\"', 'angkoo kueh': 'ang ku kueh', 'angmoh': 'Redirect to \"ang moh\"', 'angpow': 'ang pow', 'anot': '\"anot\" means \"or not\". It is used as a question tag at the end of a statement to seek confirmation or agreement from the listener.', 'anyhow whack': 'Anyhow Whack is a Singaporean colloquial expression that means to do something without much thought or care, or to go about doing something haphazardly. The phrase implies a lack of proper planning or execution in whatever activity is being done. It can be used to describe someone who is careless or irresponsible in the way they go about doing things. This phrase is often used in Singlish to express a sense of discontent or disapproval towards such behaviour. Note: The \"lah\" at the end of each example is also a common Singlish expression used to add emphasis or emotion to a sentence.', 'anyhow': '1. Characterized by a lack of order, organization, or direction; done without proper planning or care.\\n2. (adv.) carelessly or haphazardly; without thinking properly.', 'appom': \"A type of Indian pancake made with fermented rice batter and coconut milk, usually eaten as a snack or dessert. Pronunciation guide: The first syllable is pronounced like the 'ah' in 'father', and the second syllable is pronounced like the word 'palm' without the 'l' sound. Put them together and you get 'ah-pom'.\", 'arboling': 'ahballing', 'arbuthen': 'Arbuthen is a Singlish term used to obviousness. Note: The word \"arbuthen\" may be spelled differently depending on the context or the speaker\\'s preference. Some alternative spellings include \"abuden\" or \"aboothen\". However, the pronunciation remains the same.', 'argable': 'A combination of \"ar\" and the English suffix \"-able\", the term describe someone whose favour can be won or who can be \"ar-ed\".', 'arrestable offence': 'Not Singlish though', 'assam laksa': 'A sour fish and tamarind-based soup', 'assam pedas': 'Assam Pedas (ah-sum puh-dahs) is a spicy and sour dish commonly found in Malaysian and Singaporean cuisine. The dish usually consists of fish or seafood that is cooked in a tangy tamarind-based broth along with various herbs and spices, including chili peppers, shallots, ginger, garlic, and lemongrass. Other ingredients such as tomatoes and pineapple may also be added for sweetness and extra tang. Assam Pedas has a unique taste that is both sour and spicy, making it perfect for those who enjoy bold flavors. The sourness comes from the tamarind and is balanced by the heat from the chili peppers. The dish is typically served with rice or noodles and is a popular choice for lunch or dinner.', 'assam': 'a sour and spicy sauce made from the fruit of the Tamarind tree', 'attap chee': 'The edible immature fruit of the nipa palm', 'attap': 'Thatch made from palm fronds', 'auntie': \"A term used in Singapore to address an older woman or one who appears to be of a similar age or generation to one's own parents. It is used as a sign of respect, similar to 'ma'am' or 'madam'. Additionally, it can also refer to women who work as assistants in a coffee shop or hawker center.\", 'ayam buah keluak': 'A Peranakan dish consisting of spicy chicken (and sometimes pork) cooked with black keluak nuts', 'ayam penyet': 'A Javanese dish consisting of a flattened and deep-fried chicken served with sambal, sliced cucumbers, fried tofu, and rice.', 'ayam percik': 'Ayam percik is a popular Malay grilled chicken dish that is marinated in a flavorful blend of spices and coconut milk before being grilled over an open flame. The dish is typically served with a creamy, slightly sweet peanut sauce and steamed rice. The word \"ayam\" means chicken in Malay, while \"percik\" can be roughly translated as splash or drizzle. It is likely named as such due to the way the marinade is splashed or drizzled onto the chicken during the grilling process, giving it a smoky, charred flavor. Overall, ayam percik is a beloved dish in Malaysia and can often be found at street food vendors and night markets. It is a must-try for those visiting the country or looking to experience a taste of authentic Malay cuisine.', 'ayam sio': 'A popular Peranakan dish of braised chicken in a sweet and tangy sauce made with tamarind, shallots, and other spices. Note: \"Ayam\" means chicken in Malay, while \"sio\" comes from the Hokkien dialect.', 'babi pongteh': 'A popular Peranakan (Straits-Chinese) dish made from pork belly cooked in a thick, mildly sweet and savory sauce made with taucheo (salted soybean paste), fermented soybean, garlic, shallots, and spices such as star anise and cinnamon. The term \"babi\" means \"pork\" in Malay, while \"pongteh\" comes from the Hokkien dialect which means \"braised\". Note: Babi pongteh typically mushrooms, and is often served with steamed rice. It is a comforting and hearty dish.', 'bak chang': 'Glutinous rice stuffed with fillings and wrapped in bamboo, reed, or other large flat leaves', 'bak chor mee': \"A popular Singaporean dish of noodles served in a savory broth, typically made with minced pork, mushrooms, and vinegar. The noodles used can vary, but are commonly flat yellow noodles (mee pok) or thin yellow noodles (mee kia). The dish may also include ingredients such as sliced pork, fishballs, and fried lard. 'Bak chor mee' can be translated literally as 'minced pork noodles'. It is a staple dish of Singaporean hawker centers and can be found in many food courts and restaurants across the island.\", 'bak kua': 'bak kwa', 'bak kut teh': 'thin soup of pork ribs, herbs and spices', 'bak kwa': 'Bak Kwa is a popular Chinese salty-sweet dried meat snack. It is made from thin slices of marinated pork and is typically barbecued or grilled until it is slightly charred with a caramelised layer on top. Bak Kwa is commonly eaten during Chinese New Year as a festive snack and is also enjoyed year-round as a meaty treat. ', 'bakwan kepiting': 'Bakwan kepiting is a popular Indonesian-style crab meatball soup dish that is commonly found in Singapore. The dish consists of tender meatballs made from minced pork and crab meat, served in a clear broth flavored with garlic, pepper, and other spices. Bakwan kepiting is often garnished with sliced scallions, fried shallots, and fried garlic.', 'balek kampung': 'Balik kampung is a popular phrase in Singlish that means \"returning to one\\'s hometown or village\". It is often used in the context of visiting one\\'s family or childhood home or simply going home. Note: \"balek\" is a variation of the Malay word \"balik\", which means \"to return\". \"Kampung\" is a Malay word that refers to a village or rural area.', 'balek': 'To return (to a place or activity) after briefly leaving or a temporary absence. The term \"balik\" is commonly used in Singaporean English as a loanword from Malay language. It is most commonly used as an alternative to the standard English word \"return\", especially in spoken conversation. The pronunciation may vary slightly among different speakers, with some pronouncing it as \"bah-lek\". Also spellt \\'balek\\'', 'balls drop': 'balls shrink', 'balukoo': 'baluku', 'baluku': 'Baluku comes from the Malay term \"buah duku\" which is a fruit. It refers to a bruise with a bump.', 'ban mian': 'A kind of Chinese noodle dish typically served in a soup. The noodles are made from wheat flour and are slightly thicker and flatter than other kinds of Chinese noodles. Also called \"ban mee\"', 'banana money, banana note': 'A slang term used in Singapore and Malaysia originally referring to the old $10 note, which became worthless after World War II. It is now used in general to refer to worthless money.', 'banana': 'In Singlish, \"banana\" is used to describe someone who is of Chinese descent but speaks little or no Mandarin/Cantonese and only speaks English. This term is derived from the idea that the person is \"yellow\" (Asian), but \"white\" (Westernized) on the inside like the fruit of a banana. It is not usually meant as an insult but rather a descriptor of someone\\'s cultural background and language proficiency.', 'bandung': 'Bandung is a popular drink in Singapore made with rose syrup, evaporated milk, and water. It is often enjoyed with ice and some people like to mix it with condensed milk as well. The drink has a sweet and refreshing taste and is often served at local food stalls or restaurants. \\'Bandung\\' is also a Malay word that means \\'city\\' and is the name of the capital city of West Java, Indonesia. Pronunciation tip: The word \\'bandung\\' is pronounced as \"bahn-dung\" with the stress on the first syllable. Make sure to pronounce the \\'ng\\' sound at the end of the word as well.', 'bang': 'abang', 'bao toh': '(Wiktionary) From Hokkien 包刀 (pau-to, “wrapped knife”), referring to backstabbing. To inform on someone behind his or her back.', 'bapok': 'Bapok is a derogatory term in Singlish, used to refer to transgender women or crossdressers. The word has its origins in the Malay language, where it is used to describe someone who is effeminate or non-masculine. The term is considered highly offensive and should never be used in polite conversation.', 'barang-barang': 'Barang-barang is a Malay term commonly used in Singapore to various objects or things. It is pronounced as \"ba-rang ba-rang\" with a slight emphasis on the second syllable.', 'barley': 'Barley refers to a versatile grain commonly used in various culinary dishes and beverages in Singapore. It is derived from the Hordeum vulgare plant and has a chewy texture. Barley is often consumed as a hot or cold drink, especially during the scorching weather, to refresh and quench thirst. It is also used in traditional Chinese desserts.', 'basha': 'This Singlish word is derived from the Malay language and is used to refer to a simple accommodation, usually a makeshift shelter or tent. It is commonly used in the context of military camps or outdoor activities like camping, hiking, or trekking. Note: The word \"basha\" is sometimes spelled as \"barcha\" or \"barsha\".', 'basket': 'A versatile Singlish term from the word \"bastard\" used to express a wide range of emotions, from shock and disbelief to frustration and anger.  Can be used on its own as an interjection (e.g. \"Basket! I forgot to bring my phone.\"), or in a sentence (e.g. \"Basket lah, why you always like that one?\"). Often used as a mild swear word by Singaporeans of different age groups and backgrounds.', 'bayam': 'A leafy green vegetable (also known as amaranth) commonly found in Southeast Asian cuisine, with a slightly bitter taste and a soft texture when cooked.', 'bedek': 'Bedek is a Singlish slang term often used to describe the act of bluffing.', 'beef ball': 'A type of Asian meatball made with ground beef, flour, and seasonings, typically served in soups, noodle dishes, or as a snack. Note: Beef balls are a popular ingredient in many Southeast Asian dishes, especially in Hong Kong and Malaysia. They are usually made by mixing finely ground beef with starch, such as cornstarch or flour, and seasonings like garlic, ginger, and soy sauce. The mixture is then shaped into small balls and either boiled, fried, or added to soup dishes.', 'beef rendang': 'Beef rendang is a spicy dish originating from Indonesia, but also popular in Malaysia, Singapore, and Brunei. The dish consists of slow-cooked beef in a thick, spicy coconut milk-based sauce, flavored with a blend of aromatic spices such as turmeric, ginger, and lemongrass. The dish is often served with rice or flatbreads.', 'beehoon': 'Beehoon is a commonly used term in Singaporean English to refer to rice vermicelli noodles. These thin, white noodles are a staple ingredient in many local dishes, including fried beehoon, beehoon soup, and laksa.', \"beggar's chicken\": \"Beggar's chicken refers to a dish of whole chicken seasoned with various spices, wrapped in lotus leaves, and baked in a clay or mud crust. This dish is believed to have originated from the region of Hangzhou, China and is popular across Southeast Asia.\", 'belacan': 'Shrimp Paste, an ingredient commonly used in South-east Asian and South Chinese cuisine.', 'belanja': \"Belanja' is a Malay word that has become a popular Singlish expression. It refers to treating someone by paying for their meal, drink, or other expenses. It can be used to show appreciation, gratitude, or generosity towards someone else. In informal settings, 'belanja' can also be used to mean 'treat me' or 'let me treat you' in a more playful way. It is commonly used in social situations, such as hanging out with friends or colleagues.\", 'bell curve god': '(Wiktionary)  A notional deity having power over the bell curve grading system in which grades are adjusted to fit a normal distribution.', 'beng': 'A derogatory term used to describe a stereotypical Singaporean man of Chinese ethnicity who is perceived to be uncivilized, uneducated, and crass. They are often associated with their penchant for loud clothing, gaudy jewellery, flashy cars, and crude behaviour. Note: This term is considered offensive by some, and usage should be approached with caution. It is important to note that not all Singaporean Chinese men fit this stereotype, and the term \"beng\" is not an accurate representation of the community as a whole.', 'bengkok': 'Curved or bent out of shape, crooked, deformed. Note: \"Bengkok\" is a commonly used Singlish word that originates from the Malay language. It is often used to describe something that has been damaged or deformed, or to refer to a physical attribute that is not symmetrical.', 'bergedel': 'Indonesian fried patty, made mainly of ground potato and minced meat, among other ingredients', 'bhai': \"1. A term used to refer to a close friend or buddy, often used among young men in Singapore. The word is borrowed from Hindi and commonly used in Indian circle also.\\n2. In some contexts, 'bhai' can be also used to refer to a gangster or member of a secret society. \", 'birthday noodle': '(Wiktionary) A Chinese yi mein noodle of a kind eaten on birthdays to celebrate a long life.', \"bishop's nose\": \"Bishop's nose is a Singlish term used to refer to the fatty part at the base of a chicken's butt, also known as the tail or parson's nose. It is a delicacy for some people and is often grilled or roasted as a snack.\", 'bittergourd': \"A vegetable with a long, ridged green exterior and a bitter taste often used in Asian cuisine. Note: In Singlish, the pronunciation of 'bittergourd' often includes a glottal stop between the 't' and 'g', resulting in a sound that is closer to 'bi-tuh-gawd'.\", 'black bean sauce': 'A thick, savory sauce made from fermented black beans and commonly used in Chinese cuisine.\\nNote: In Singlish, it is also commonly referred to as \"tau cheong\".', 'black fungus': 'Black fungus, also known as wood ear mushrooms or auricularia polytricha, is a type of edible fungus commonly used in Asian cuisine. It has a distinctive black color, and a slightly rubbery texture. Black fungus is often added to soups, stir-fries, and salads for its unique texture and flavor. It is believed to have various health benefits, including improving circulation, boosting the immune system, and promoting healthy skin.', 'blanket party': 'A form of hazing or initiation ritual where a group of individuals ambush and attack a fellow member by throwing a blanket over their head and beating him or her with improvised weapons.', 'blur king': '\"Blur king\" is a popular Singlish expression used to describe someone who is absent-minded, forgetful, or clueless. It\\'s a playful way to poke fun at someone who\\'s not quite getting it, or who is simply prone to being forgetful. The term \"blur\" is borrowed from the English word \"blurry,\" which means unclear or fuzzy.', 'blur like sotong': \"An idiomatic expression commonly used in Singapore's English language or Singlish. It means to be extremely confused, disoriented or clueless about a certain situation or task. 'Blur' means confused or hazy and 'sotong' means squid in Malay language. In this context, the idiom 'blur like sotong' suggests that the person who is confused is as disoriented as a squid.\", 'blur': '1. Confused or disoriented, having difficulty understanding or following something.\\n2. Indecisive or unaware, unable to make a clear decision or take action.', 'bo bian': \"Bo bian is a phrase used to express that one has no choice or alternative but to accept a specific outcome, regardless of personal preference or desire. It highlights the resignation or acceptance of a circumstance that is beyond one's control.\", 'bo hew': 'bo hiu', 'bo hiu': 'Bo hiu is a Singlish phrase that translates to \"don\\'t care\" or \"not bothered\". It is often used to indicate a lack of interest, indifference or apathy towards a person or situation. It can also be used to express nonchalance or to shrug off something that might be seen as important or serious. Overall, \\'Bo hiu\\' is a common Singlish phrase that is used to express a casual attitude towards something or someone.', 'bo idea': '\"Bo idea\" is a Singlish phrase that means \"no idea\" or \"I have no clue\". It is often used to convey a sense of confusion or lack of knowledge about a particular subject matter. Note: The word \"bo\" is a colloquial expression commonly used in Singlish to signify negation or the absence of something.', 'bo pian': '‘Bo pian’ is a Hokkien phrase commonly used in Singlish to mean ‘no choice’ or ‘cannot be helped’. It’s often used to express resignation or acceptance of a situation that’s beyond one’s control. Note: ‘Bo pian’ is an informal expression that’s best used in casual conversations with friends and family, rather than in formal settings.', 'bo': '1. Bo is a ubiquitous Singlish particle that is commonly used to indicate a negative response or to negate a statement. It is equivalent to the English word \"no\" or \"not\". Bo ican be used alone or in combination with nouns or particles such as \"lah\" or \"leh\". Variations: \"Bo jio\" is a common expression used to express disappointment in not being invited to an event or outing. It translates to \"did not invite\".', 'bobo': \"A Singlish slang that is commonly used to refer to someone who is foolish, stupid, or clueless. Bobo is often used in a playful or teasing manner, especially among friends. Alternate spellings: boboh, bobohlah. Note: The word 'bobo' may also be used as a noun to refer to a foolish person.\", 'bodoh': \"The word 'bodoh' is a Malay word that has been adopted into the Singaporean English lexicon. It is typically used to describe someone who is stupid or foolish. The term is often used in a lighthearted or affectionate way between friends, but it can also be used as an insult in certain contexts. 'Bodoh' can also be used to describe foolish actions or decisions.\\nNote: It's important to be aware of the context in which 'bodoh' is being used, as it can be considered offensive in some situations.\", 'bogay': \"Bogay is a Singlish term commonly used in Singapore to describe the state of being toothless. Alternate spelling: 'bogeh'\", 'boh': 'bo', 'boleh': 'Boleh is a commonly used word in Singlish and Malay language. It is a verb, which means \"can\" or \"able to\". Alternatives spellings may include \"bole\" or \"bolay\" but these are less common.\\\\n\\\\nOverall, boleh is a versatile word in Singlish as it can be used to ask for permission, express abilities or simply to agree to a request.', 'botak': 'The Singlish colloquial term \"botak\" is used to describe a person who is bald. Note: \\'Botak\\' is derived from the Malay language, in which it means bald.', 'briyani': 'An Indian dish containing meat, fish, or vegetables and rice flavored with saffron or turmeric (http://www.thefreedictionary.com/briyani)', 'buah duku': \"Buah duku' is a Malay term used to refer to a tropical fruit that is popular in Southeast Asia. It is also known as 'langsat' in Malay and 'lansa' in Indonesia. The fruit is small and round, with a thin, yellowish-brown skin that is easy to peel. Inside, there is a translucent, juicy flesh that is sweet and tangy, with a flavor similar to grapefruit. The fruit contains one or two seeds that are bitter and inedible.  In Singapore, 'buah duku' is often eaten as a snack or dessert, and is also used in various traditional Malay and Indonesian dishes.\", 'buay song': 'A Singlish phrase meaning \"not happy\" or \"unhappy\". It is often used to express dissatisfaction with a situation or to describe a feeling of discomfort or annoyance. The word \"buay\" comes from the Hokkien dialect and means \"cannot\" or \"not able to\". \"Song\" comes from the word 爽 which refers to a positive, pleasant feeling.', 'buay zai': '1. Inadequate or incompetent; not up to scratch.\\n2. Uneven or unbalanced, such as a haircut with uneven lengths or a poorly done job.\\n3. Disorganized or messy, such as a cluttered room or a disheveled appearance.\\n\"Buay zai\" is a commonly used Singlish phrase, and it\\'s usually used in a lighthearted or teasing manner. It can also be used as a way to acknowledge that something isn\\'t perfect but still acceptable.', 'buay': \"Buay' is a Singlish term used to express a negative or unwilling attitude towards something. It's often used to indicate the feeling of 'not wanting to' or 'not being able to'. It can also signify a negation of something.\", 'buaya': '\"Buaya\" is a Singlish term that refers to a man who is a player or womanizer. This word comes from the Malay language, where it means \"crocodile.\" The term is usually used in a negative context to describe a man who likes to flirt with many women or who is known to have many girlfriends.', 'bubble tea': 'A popular drink made with tea, milk, sugar, and chewy tapioca balls (called bubbles or pearls) that are added to the drink. It originated in Taiwan in the 1980s and has since become popular in many Asian countries and around the world. Note: Bubble tea can come in a variety of flavors and variations, such as fruit-flavored teas or smoothies, and can be served hot or cold. In some places, it is also known as boba tea or pearl milk tea.', 'bubor chacha': 'Bubor Chacha is a classic dessert dish commonly found in Singapore and Malaysia. It is a sweet, creamy, and fragrant dessert made from a mixture of coconut milk, palm sugar, and pandan leaves. The ingredients are then boiled together with taro root, sweet potatoes, and sometimes yam (also known as \"orh\" in Hokkien) until the mixture turns into a thick and creamy pudding-like consistency.\\\\n\\\\nThe word \"bubor\" in Malay means porridge, while \"chacha\" is likely a Chinese Hokkien word for the root vegetables used in the dish. It is often served warm or chilled and can be enjoyed as a dessert or a snack. Some variants may also include sago pearls or durian for an added flavor.', 'bubor terigu': 'Bubor terigu is a porridge made from wheat flour or semolina. It is a popular breakfast dish in Southeast Asia, especially among Malays and Indonesians. The porridge is typically cooked with water or milk and sweetened with sugar or palm sugar. It can also be flavored with pandan leaves or coconut milk. Note: \"Bubor\" or \"bubur\" means \"porridge\" in Malay and Indonesian, while \"terigu\" means \"wheat flour.\"', 'build-to-order': 'Build-to-Order (BTO) refers to a housing scheme in Singapore where new public housing flats are built based on demand, allowing interested buyers to apply for these flats during specific application exercises. Under this scheme, buyers have the opportunity to select the location, flat type, and other desired specifications before the construction of the flats begins', 'buka puasa': \"Buka Puasa is a term commonly used in Singapore to refer to the act of breaking one's fast during the Islamic holy month of Ramadan. It specifically describes the moment when Muslims partake in their first meal after abstaining from food and drink from dawn till dusk. This term is predominantly used within the Malay-Muslim community and is also widely understood among other ethnic groups in Singapore. In Singapore, many restaurants and food establishments offer special buka puasa menus during Ramadan, catering to both the Muslim community and those who wish to experience the traditional culinary delights associated with this occasion.\", 'bukit': 'A hill', 'bulat': 'Rounded, circular, or spherical in shape.', 'burger ramly': 'Burger Ramly refers to a type of Malaysian-style burger that is famous for its juicy and succulent meat patty, egg, and special sauce that is served on a crispy bun. The patty of the burger is generally made of minced chicken, beef or lamb, and is often shaped into a thin, flat patty before it is grilled on a flat pan.', 'cake lapis': 'Cake lapis is a traditional, layered cake that is popular in Southeast Asian countries like Indonesia, Malaysia and Singapore. \"Cake lapis\" literally translates to \"layered cake\" in Indonesian and Malay. The cake is made by layering thin sheets of multicolored batter one on top of the other, with each layer being baked and cooled before the next one is added. The result is a cake with a striking, multicolored pattern when cut into slices. Cake lapis can come in various flavors such as vanilla, chocolate, pandan, and even durian!', 'campong': 'kampong', 'cannot make it': 'An expression used to indicate that something is impossible or unlikely to happen. It can also mean that a person or thing is inadequate or ineffective.', 'cari makan': '\"Cari makan\" is a Malay phrase that has been adopted into Singlish, and means \"to earn a living\" or \"to find a source of income\". The phrase is commonly used to describe someone who is working hard to make ends meet or hustling to make a living in a challenging situation. It can also refer to someone trying to make a quick buck or engaging in illegal or shady activities to make money. Note: The phrase \"cari makan\" is often used colloquially in Singapore and is widely understood across different ethnic groups.', 'carrot cake': 'cubes of steamed rice flour and white radish stir-fried with eggs and seasoning', 'carry balls': 'To flatter someone excessively in order to win their favor or approval, often to gain personal benefits or advantages.', 'century egg': 'Preserved eggs made from soaking duck, hen or quail eggs in saline solution for a few weeks to a few months', 'chabut': 'cabut', 'chai poh': \"Chai poh is a term used in Singlish to refer to preserved radish that's commonly used in local dishes such as fried carrot cake, chee cheong fun, and oyster omelette. The radish is finely sliced, mixed with salt and spices, and then left to ferment for a couple of weeks, which gives it a pungent aroma and a slightly salty taste. Some people also enjoy eating chai poh on its own as a snack.\", 'chai sim': '\"Chai sim\" is a commonly used term in Singaporean English that refers to a type of leafy green vegetable. The vegetable is also known as Chinese mustard greens, and is a popular ingredient used in many different types of Asian cuisine, including soups and stir-fries. The vegetable has a slightly bitter, mustard-like flavor and is high in vitamins and minerals.', 'changkul': \"Changkul is a Singlish term for a small digging tool or hoe, usually made of iron or steel, with a long wooden handle. It is commonly used for gardening and farming activities, such as digging up soil, removing weeds, and breaking up hard ground. The term 'changkul' is borrowed from the Malay language, where it also means a hoe or digging tool. Note: The term 'changkul' is a commonly used word in Singapore and Malaysia, but may not be familiar to those outside the region.\", 'chao keng': 'A Singaporean slang term used referring to the act of pretending to work or feigning illnesses to avoid doing some job or obligation. It can also refer to lazy or unproductive behavior.', 'chao': 'smelly', 'chap chye': 'stir-fried mixed vegetables', 'chap go mei': '\"Chap go mei\" is a Hokkien phrase that literally translates to \"fifteenth night\". In Singapore, it refers to the 15th day of the first lunar month.', 'chapalang': 'a Singlish term that can be used to describe something that is of poor quality, haphazardly put together or disorganized. It can also describe a situation that is confusing or chaotic.', 'chapteh': 'capteh', 'char kway teow': 'stir-fried flat rice noodles', 'char siew noodles': 'Char siew noodles is a popular dish in Singapore and Malaysia made with egg noodles and barbecued pork slices, also known as char siew. The char siew is usually marinated with a mixture of honey, soy sauce, oyster sauce, and hoisin sauce, giving it a sweet and savory flavor. The dish is often served with a clear broth or soy-based sauce, along with toppings such as choy sum vegetables, fried shallots, and chili paste. Char siew noodles are a common street food in the region and can also be found in many hawker centers and restaurants.', 'char siew pau': \"A popular Chinese snack food made of steamed or baked bun filled with diced barbecue-flavored pork called char siew. The bun has a fluffy texture and is usually white in color. The filling is savory, slightly sweet and has a slightly sticky texture due to the addition of hoisin sauce. Note: 'Char siew' is a Cantonese term meaning 'fork roast', and 'pau' (also spelled 'pao') is a Hokkien term for 'steamed bun'. The dish is also known as a BBQ pork bun in English.\", 'char siew rice': 'Char siew rice is a popular dish in Singapore that is made up of sliced barbecued pork (char siew) served over a bed of steamed white rice. The pork is typically marinated in a sweet and savory sauce before being roasted to create a caramelized and slightly charred exterior. The dish is often accompanied by a small bowl of soup and some vegetables on the side.', 'char siew su': 'Char siew su, also spelled as char siew sou, is a type of Chinese pastry that consists of a flaky, golden-brown crust filled with diced barbecued pork, also known as char siew, and often mixed with soy sauce, oyster sauce, sesame oil, and various seasonings. Char siew su is typically baked until the exterior is crispy and the filling is piping hot, creating a perfect balance of sweet and savory flavors that are beloved by many in local Singaporean cuisine.', 'char siew': 'a kind of Chinese barbecued pork; normally red in color', 'chari makan': 'cari makan', 'chatek': 'capteh', 'cheapo': 'Singlish term refers to something that is perceived as cheap, inferior, low-quality or stingy. It is commonly used to describe items or services that are priced lower than usual or considered to be of low value. It can also be used to describe someone who is unwilling to spend money, or who is frugal to the point of being miserly.', 'chee cheong fun': 'a Cantonese dish served as a snack or part of a light meal. It is made of rice noodles rolled up and stuffed with various ingredients (shrimp, pork, etc)', 'chee sin': 'A Cantonese that means \"crazy\" (lit. wires are stuck together). Note: \"Chee sin\" is not a polite term and can be offensive.', 'cheeko pek': \"Commonly used to describe older men who are perverts.  The word 'pek' comes from the Hokkien Chinese dialect, meaning 'uncle', or more specifically 'father's older brother'.\", 'cheemology': 'cheem', 'cheena': 'Used to describe something that looks very Chinese or that comes from China. Often comes with a negative connotation', 'cheh': '\"Cheh\" is an exclamation commonly used in Singlish to express a range of emotions from frustration, disappointment to disbelief. It is often used when one is annoyed or someone or something is not up to expectation. The word is generally used in informal conversations. Note: \"Cheh\" is similar to the English word \"pssh\" or \"bah\" in Japanese.', 'chempedak': 'A tropical fruit native to Southeast Asia, closely related to the jackfruit. It has a sweet and slightly tart flavor with a strong aroma.', 'chendol': 'A popular Southeast Asian dessert made with coconut milk, shaved ice and green jelly noodles made from rice flour, and sweetened with palm sugar syrup. It is often served with red beans, sweet corn, or diced jackfruit.', 'cheng tng': 'Cheng Tng is a popular dessert in Singapore that consists of a variety of ingredients such as barley, sweet potato, lotus seeds, longan, agar agar and panda mixed together with a sugary water. Sometimes it is served hot or cold, depending on the weather. Cheng Tng is appreciated for its different textures and flavors. It is commonly found at hawker centers, food courts and traditional Chinese dessert shops.', 'chengai': 'A durable, dark red-brown hardwood timber that is commonly used in construction and outdoor furniture in Singapore. Note: This word is commonly used in Singapore and is likely to be unfamiliar to those who are not familiar with Singaporean English.', 'cheong fun': 'Cheong fun (or \"chee cheong fun\") is a popular dish in Singapore and Malaysia. It is a type of Cantonese flat rice noodle rolls, made by steaming a thin layer of rice flour batter then rolled with a filling (usually shrimp, pork or char siew) and served with sweet or savoury sauce such as soy sauce or chili sauce. Cheong fun is often eaten as a breakfast item or as a snack and can also be found at hawker centres or dim sum restaurants in Singapore.', 'chia chua': \"Chia chua, lit. 'eat snake'  is a Singlish term used to describe the action of slacking off.\", 'chia kentang': '\"chia kentang\" is a Singlish term that refers to an Asian person who behaves like a Caucasian, especially if they can only speak English. The word \"chia\" means to eat in Hokkien dialect, while \"kentang\" means potato in Malay. The term literally means to eat potatoest. \\\\n\\\\nAlternate spellings include \"jiak kentang\".', 'chia lat': 'Chia lat is a Singlish term that\\'s typically used to express frustration or exasperation. The phrase is often used in response to a negative event or situation, and is equivalent to saying \"oh no\" or \"this is terrible.\" \"Chia\" can be translated as \"very,\" while \"lat\" is a Malay word that means \"spicy\" or \"hot.\" In this context, \"lat\" is used to indicate an unpleasant sensation (like spiciness) or an undesired experience. Overall, \"chia lat\" is a versatile phrase that\\'s frequently used to convey dissatisfaction or disappointment.', 'chia': 'jiak', 'chiah, chiak': 'Chiah or chiak is a Hokkien term used in Singlish which means to eat. It is a commonly used term by Singaporeans to describe the act of consuming food or beverages. Sometimes, it may also be used to express enjoyment of food or to indicate the beginning of a meal.', 'chicken rice balls': 'Chicken rice balls refer to a popular dish commonly found in the Malaysian state of Malacca and other parts of Southeast Asia. The dish is made by cooking chicken and rice in chicken broth with ginger and garlic, giving it a savory flavor. After cooking, the rice is formed into small, circular balls and served with sliced chicken meat. Sometimes, it may also be accompanied with chilled cucumber slices, spicy dipping sauces, and other condiments. Chicken rice balls are a popular local street food in Malaysia and can be found in many hawker centers, food courts, and restaurants. Note: Although chicken rice balls are not specifically a Singlish term, they are a popular dish in Singapore and are recognized by locals.', 'chicken rice': 'A popular Singaporean dish made from boiled or roasted chicken commonly served on a bed of fragrant rice that has been cooked with chicken stock, garlic, and ginger. The dish is often accompanied by various condiments such as sliced cucumbers, chili sauce, and dark soy sauce. Note: Chicken rice is a staple food in Singapore and can be found in many hawker centers, food courts, and restaurants. It is a must-try dish for tourists visiting the country.', 'chicken-feed': 'Chicken-feed is a Singlish term that refers to a small and insignificant amount of money, usually an amount that is not worth mentioning. It can also refer to something that is easy or trivial to do, or something of very low quality or value. Note: Chicken-feed is a figurative expression and does not refer to the actual feed given to chickens.', 'chiku': \"A sweet and brown fruit with a rough, hairy outer layer and a soft, sticky interior. The fruit is native to South Asia but is also grown in other tropical regions like Southeast Asia and South America. The fruit is known for its caramel-like flavor and is often eaten fresh or used in desserts like ice cream, milkshakes, and pies. Note: In Singlish, it's common to use Malay or other regional language words in everyday speech, so 'chiku' is a word commonly used in Singapore.\", 'chilli crab': 'crabs stir fried in sweet and spicy ketchup', 'chilli padi': \"A small, fiery chili pepper commonly used in Southeast Asian cuisine, particularly in Singaporean and Malaysian dishes. It is known for its intense heat and is used to add spiciness to a wide variety of dishes. Note: The word 'padi' refers to the paddy plant, which is a type of rice plant commonly cultivated in Southeast Asia. The term 'chilli padi' literally translates to 'paddy chilli', referencing the small size of the chilli pepper resembling a grain of paddy rice.\", 'chim': 'cheem', 'chin chai': \"A phrase used in Singlish to refer to something done in a casual or nonchalant manner, without much care or concern. It can also be used to describe someone who is indecisive or unsure and can be used as an answer to mean 'anything'.\", 'chin chow': 'A jelly-like dessert made from the leaves of a plant called Mesona Chinensis. It is usually served with sugar syrup and sometimes mixed with other ingredients like fruits or milk. Note: \"Chin chow\" is a common term used in Singapore and Malaysia, while \"cincau\" is more commonly used in Indonesia. \"Grass Jelly\" is the English name for this dessert.', 'chinchalok': 'cincalok', 'chio': \"Chio refers to someone or something that is attractive, pretty, or beautiful. This Singlish word is commonly used to describe a person's physical appearance.\", 'chop-chop kali pok': 'A phrase commonly used in Singlish to urge someone to hurry up or do something quickly. It can be interpreted as \"quickly quickly finish it up in one shot\". The phrase is often used with a sense of impatience or urgency. Note: \\'Chop-chop\\' is a English loanword that is used in Singlish to indicate urgency or speed. \\'Kali pok\\' is a Hokkien phrase that means \\'in one go\\' or \\'one shot\\'.', 'chop': '1. a stamp (the kind that uses ink)\\n2. to stamp', 'chope v.': 'A commonly used Singlish term that means to reserve or secure a seat or place. This is often done by placing a tissue pack, umbrella, or any other item on the seat or table to signify that it is taken.', 'choy': 'Choy is a common exclamation in Singlish that can be translated to \"touch wood\".', 'chum': 'To die. Usually used for exaggeration.', 'chwee kueh': 'Chwee Kueh is a popular breakfast item in Singaporean cuisine. It is made up of steamed rice cakes that are shaped like small bowls, and topped with diced preserved turnip and chilli paste. Note: Chwee Kueh is commonly sold at hawker centres, and is usually eaten with a side serving of soy sauce and chilli.', 'chye png': \"Chye Png is a Hokkien term commonly used in Singapore to refer to mixed rice. It consists of a plate of steamed white rice topped with a variety of dishes, such as vegetables, meat, fish, tofu, eggs, and curry. The word 'chye' means vegetables, while 'png' means rice in Hokkien. Chye png is a popular and affordable meal option for many Singaporeans, as they can choose from a wide range of dishes and mix-and-match to their liking.\", 'chye por': 'chai poh', 'chye sim': 'chai sim', 'chye tow kuay': 'carrot cake', 'cincaluk': 'A traditional condiment made from small fermented shrimps, popularly used in Southeast Asian cuisine. Note: \"Cincalok\" is a specific type of fermented shrimp condiment. It is similar to belacan, but has a milder taste and lighter pink color. It is commonly used in Malaysian, Singaporean, and Indonesian cuisine as a dipping sauce or ingredient in dishes such as laksa and sambal.', 'claypot rice': \"Claypot rice is a popular one-pot rice dish that is traditionally cooked in a claypot over a charcoal fire. A layer of rice is placed at the bottom of the claypot, topped with marinated meat, seafood, and vegetables. The pot is covered and left to cook until the rice turns crispy and golden brown at the bottom of the pot, while meat and vegetables are infused with the aroma and taste of the rice. It is commonly served with a side of soy sauce or chilli paste and garnished with chopped scallions. Note: 'Claypot' is a compound word made up of 'clay' and 'pot', and 'rice' is pronounced as 'rays' in Singlish.\", 'claypot': 'A clay pot or earthenware pot used for cooking and serving food. Commonly used in Asian cuisine, the claypot is often used to cook stews, soups, and rice dishes. The porous nature of the clay helps to retain moisture, which makes the food tender and juicy. It also imparts a unique flavor to the dish.', 'cock-up': \"1. (noun) \\x08A mistake or error that results in a problematic situation. \\n2. (verb) to mess up or mishandle a task or situation.\\nThe term 'cock-up' is commonly used in informal conversational English in Singapore to describe a situation that has gone wrong due to a mistake or error. It is often used in a casual context among friends or acquaintances.\", 'cocok': '1. to poke\\n2. to annoy\\n3. to persuade', 'coconut': 'Used to refer to the head (usually of children)', 'coffee shop': \"A casual eatery or dining venue typically found in residential areas, where local cuisine is served at affordable prices. Coffee shops are known for being a quintessential part of Singapore's food culture, offering a variety of dishes such as Hokkien mee, chicken rice, laksa, and more. They are often crowded and noisy, but provide an authentic Singaporean dining experience.\", 'coffeeshop': 'a traditional coffee shop commonly found in Southeast Asia, distinguished from café', 'confinement': \"A period of postnatal care that new mothers in Singapore undergo, typically lasting around 30 to 40 days. During confinement, the mother is advised to observe rest, physical restrictions, and a diet of specific foods such as red dates and ginger, while also taking care of her newborn baby. This tradition, thought to improve a mother's long-term health, is still commonly practiced in Singapore. Note: The word 'confinement' in Singlish carries a very specific meaning related to postnatal care, and is not used in other contexts in the same way it might be in Standard English.\", 'coo coo cheow': 'A Singlish phrase used to refer to the penis. Commonly used by children\\\\.', 'curry devil': 'devil curry', 'currypok': 'Refers to a popular Singaporean snack made of crispy pastry filled with curried potatoes and chicken, or other meat fillings. Note: \"Pok\" in Singlish refers to anything that is shaped like a pocket or pouch, while \"curry\" refers to the spicy South Asian sauce that is often used in Singaporean cuisine. Currypuffs are commonly enjoyed as a snack item or light meal.', 'deh': 'dey', 'devil curry': 'Devil Curry is a popular and fiery dish with a spicy flavor that can be found in the local cuisine of Singapore and Malaysia. It is typically made of potatoes, meat, and a variety of spices such as chili, garlic, and curry leaves. The origins of the name \"devil curry\" are uncertain, but it is believed that the dish got its name due to its insanely spicy taste, making it unbearable for those who cannot handle the heat. However, for those who love spicy food, devil curry is a must-try dish.', 'diao he': 'Chinese tea. Literally refers to \"fishing\"', 'die-die': 'An emphatic expression used to convey utmost determination, intention or certainty about a situation or outcome; the equivalent of the phrase \"no matter what\" or \"come what may\". Note: The repetition of the word emphasizes the speaker\\'s conviction or the inevitability of the outcome.', 'dodol': '\"Dodol\" is a traditional Southeast Asian sweet delicacy made from coconut milk, palm sugar, and glutinous rice flour. It has a sticky and chewy texture and is often flavored with pandan leaves or durian. It is a popular treat during festivals and special occasions, especially in Malaysia, Indonesia, and the Philippines.', 'double-boiled': 'A cooking technique where ingredients are placed in a covered ceramic pot with water and then slowly simmered for a long time over low heat. Note: Double-boiling is a common technique in Chinese cooking and is believed to retain the nutrients and flavors of the ingredients better.', 'dragon year': 'Dragon Year is a popular term used in Singlish to describe the Chinese zodiac year in which individuals are born under the zodiac sign of the Dragon. The Chinese zodiac is based on a 12-year cycle, with each year associated with an animal sign. The dragon year is an especially popular year for giving birth to children.', 'drunken chicken': 'Drunken Chicken is a popular Chinese dish that is typically made by immersing a whole chicken into a mixture of Shaoxing wine, ginger, and green onions and steaming it until it is cooked through. The dish gets its name from the fact that the chicken is cooked in a wine marinade akin to alcohol.', 'dry market': 'a market that sells dry goods, including textiles, electronics, clothes, furniture, spices, etc (as opposed to the wet market)', 'duku langsat': 'baluku', 'duku': \"Duku (pronounced as 'doo-koo') is a type of tropical fruit that is commonly found in Southeast Asia. It has a thin, tough skin that is green or yellow in color and is filled with small, juicy, white-colored fruits that have a large seed inside. The flesh of the fruit is sweet and slightly tart, with a unique fragrance that is distinctively tropical.\", 'economy rice': 'conomy rice is a popular Malaysian and Singaporean dish that consists of a plate of steamed white rice accompanied by a variety of pre-cooked dishes. It is a common and affordable option for a quick and satisfying meal.', 'ee fu noodles': 'A type of Chinese noodles made from wheat flour and egg, usually served in soups or stir-fried with meats and vegetables. The noodles are thin and long, often resembling yellowish brown spaghetti. Ee Fu noodles are known for their delicate texture and slightly sweet taste. They are a popular comfort food in Singapore and other parts of Southeast Asia.', 'ee meen': 'ee fu noodles', 'ee-yer': 'Ee-yer is an expression commonly used in Singlish to express disgust, disapproval, or annoyance. It is similar to saying \"ew\" or \"yuck\" in English. The term is often used to describe something that is unpleasant, unappetizing, or undesirable.', 'ee': 'Interjection used to express disgust or disapproval, equivalent to \"eww\" or \"yuck\". Can be used in response to something distasteful or unpleasant.', 'egg prata': 'Egg prata is a type of Indian flatbread popular in Singapore. It is made from wheat flour dough that is stretched and flattened into a thin disc, then brushed with oil, folded with egg, and grilled until crispy on the outside. It is a popular choice for breakfast and supper.', 'fa cai': 'Fa Cai is a Chinese term that can be translated literally to \"hair vegetable.\" In Singapore, it is commonly used during Chinese New Year as a homophone for \"prosperity\".', 'face': 'Refers to a person\\'s reputation or standing in society, particularly in terms of respect and earning \"face\" from others. It can also refer to maintaining a positive image or perception of oneself in front of others.', 'fan choy': 'A dish of steam flavoured rice with char siew and occassionally mushroom and egg that usually comes from a round plastc container.', 'fat choy': 'fa cai', 'fire-walking': 'A Hindu ritual where devotees walk barefoot over hot embers as a form of penance or blessing seeking.', 'five-foot way': 'The \"Five-foot way\" is a unique feature of traditional shophouses in Singapore. It refers to a covered pedestrian pathway that is five feet wide, running along the storefront of these buildings. This was originally designed to protect pedestrians from the sun and rain, but also served as a space for commercial activities to take place. Today, the five-foot way remains a distinct characteristic of historic shophouses in Singapore and can be seen in Chinatown and other heritage areas.', 'fly aeroplane': 'To stand someone up or to make an appointment but not show up.', 'fu chuk': 'A Cantonese word for a type of soybean curd skin. It is a thin, flat, and elastic alternative to tofu, made by removing the soy milk from the curd and then drying it; typically used in soups, stir-fries or as a vegetarian meat substitute.', 'fu yu': 'A sort of savoury fermented tofu with a strong taste. Commonly eaten with porridge or fried with vegetables.', 'gabra king': 'Someone who gabra(s) a lot, the king of gabra. See \"grabra\"', 'gabra like zebra': 'Someone who gabra(s). \"zebra\" adds to the rhyming. See \"grabra\"', 'gabra': 'To do in a hurry, and without quality', 'gado gado': 'An Indonesian salad containing boiled, blanched, or steamed vegetables, hard-boiled eggs, tofu, tempeh, and lontong, covered in a peanut sauce', 'gahmen': '\"Gahmen\" is a Singlish adaptation of the English word \"government\". It refers to the ruling authority or governing body that has the power to make decisions and laws for a country or region. In Singlish, \"gahmen\" is often used to talk about governmental policies or to criticize the actions of the ruling party.', 'ganja': 'Ganja refers to marijuana or cannabis, a plant known for its psychoactive properties.', 'gao ding': 'From the Mandarin phrase 搞定 , meaning \"done\" or \"settle“. ', 'garang': 'A Malay word that is often used in Singlish to describe someone who is brave, fierce or daring. It can also refer to someone who is tough or aggressive.', 'getai': 'A live stage performance held during the Hungry Ghost Festival (held in Singapore, Malaysia and parts of Indonesia)', 'gila': \"Gila is a versatile Singlish slang word that originated from the Malay language. It is commonly used in Singapore to describe something or someone as crazy, absurd, or intense in a humorous or exaggerated manner. The word 'gila' is often used to evoke a sense of extreme surprise, disbelief, shock, or excitement. Gila is often used in informal conversations, among friends, and in casual settings.\\\\n- It is a highly expressive term that adds emphasis to the intensity of a situation.\", 'give face': '\"Give face\" is a common phrase used in Singapore to refer to a person showing respect or honoring another person\\'s status or authority. It could also mean giving someone an opportunity to save face or avoid embarrassment. \"Give face\" is a crucial element of Singaporean culture and is seen as a sign of politeness and decency to show respect to others.', 'go fly kite': 'The phrase \"go fly kite\" is commonly used in Singlish as an expression of rejection, dismissal or annoyance towards someone who is bothering you or asking for something unreasonable. It\\'s similar to saying \"buzz off\" or \"get lost\" in English.', 'gone case': 'A phrase commonly used in Singlish to describe a person or situation that is beyond help or rescue. It is often used to signify that something has taken a turn for the worse and there is no hope of improvement. This phrase is also used to refer to someone who has done something foolish or is facing a hopeless situation.', 'gong n.': 'refers to a person who is particularly slow, foolish or lacking in common sense.', 'goondu': 'A Singlish word used to refer to a person who is foolish, silly, or lacking common sense.', 'gostan': 'To reverse or back up a vehicle.', 'guo tie': 'Guo Tie is a Chinese dumpling that is pan-fried until crispy on one side, soft and juicy on the other. When translated from Mandarin, Guo Tie means “pot sticker,” referring to how they stick to the bottom of the hot pot as they cook.', 'habis': \"Habis' is a commonly used Singlish term that means 'finished' or 'done'. It is usually used to express an end to something or when there is no other option left.\", 'hae ko': 'a popular ingredient in many Singaporean and Southeast Asian dishes, known in English as shrimp paste', 'hae mee': 'the Singapore variant of this dish consists of egg and rice noodles stir fried with prawns', 'haebee': 'small dried shrimp', 'hah': '1. A Singaporean expression of disbelief, often used as a response to a ludicrous or implausible statement. It can also be used as a way to express mockery or sarcasm. \\n2. A rising tone particle (tone 2). It can be added to the end of an imperative or question to soften it. It can also make a statement sound less assertive.', 'hainanese pork chop': 'A dish commonly found in Singaporean cafes and coffee shops, consisting of a breaded and fried pork chop served with various accompaniments, such as steamed vegetables, fries, or rice.', 'hainanese': 'a variety of Min Chinese spoken in the southern Chinese island province of Hainan', 'halal': 'an Arabic word that is commonly used by Muslims to describe anything that is permissible or lawful according to Islamic law. In Singapore, halal is used to refer to food, drinks, and other products that are prepared and processed in accordance with the Islamic dietary laws.', 'ham shap': 'Perverted', 'hantam': 'hentam', 'haolian': 'A term used to describe someone who boasts or shows off excessively.', 'har gau': 'A Cantonese term that refers to a popular type of dim sum prawn dumpling often served in Singaporean and Hong Kong cuisine. Har gau are typically made with a delicate and translucent wheat starch skin that is filled shrimp. They are often served steamed.', 'haram': 'Haram is used to describe something that is forbidden or prohibited. It is commonly used in Islamic contexts to refer to actions or behaviors that are considered sinful or morally wrong. It is the opposite of \"halal\"', 'hawker centre': 'a food establishment selling inexpensive food. It is similar to a food court, except it is usually outdoors, open-air and non-air-conditioned', 'hawker stall': 'A hawker stall refers to a type of open-air food establishment in Singapore, which usually sells a specific type of food or cuisine. It is known for offering a variety of affordable and tasty dishes that are uniquely Singaporean, such as chicken rice, laksa, rojak, and satay. A hawker stall is often situated in a hawker centre, which is a large complex that houses many stalls selling different types of food and beverages.', 'hawker': 'A vendor who sells food or other items from a food stall in hawker centers, which are large open-air food courts where several different stalls are clustered together.', 'hay bee': 'hae bee', 'hay cho': 'Prawn roll ', 'hay ko': 'hae ko', 'hay mee': 'hae mee', 'heck care': 'Heck care is a commonly used phrase in Singlish to express a lack of concern or indifference towards a situation.', 'helicopter': 'A derogatory term used for someone who is Chinese educated. More commonly used in the past.', 'hell money': 'A sort of replica currency that is burnt as offerings for the deceased. In Chinese culture, it is believed that the spirits of the dead can use the money in the afterlife to buy whatever they need.', 'heng': 'A word that is used to express the idea of being lucky or fortunate. It is often used to describe a positive situation or outcome that has been unexpected or surprising. The word can also be used to express relief at avoiding a negative outcome.', 'hentam kaki': 'Marching on the spot.', 'heow': 'Used to describe some one who is very vain', 'hiao': 'heow', 'hiau': 'heow', 'hilang': 'The term \"hilang\" is rooted in the Malay language and means \"disappear\" or \"lost\".', 'hoi sin sauce': 'A thick, reddish-brown sauce commonly used in Chinese cuisine as a glaze for meat dishes or as a dipping sauce. The flavor is sweet and savory with a hint of garlic and spices. The sauce is made from soybeans, sugar, garlic, vinegar, and various spices.', 'hokchiu': 'a variety of Min Chinese spoken mainly in the eastern part of the Fujian Province', 'hongbao': \"refers to a traditional Chinese red envelope containing money, usually given as a gift during special occasions such as Chinese New Year, weddings, and birthdays. The red color of the envelope symbolizes good fortune and wards off evil spirits. The amount of money inside depends on the occasion and the giver's relationship with the recipient.\", 'hor': '1. Hor with a rising tone is a colloquial particle in Singlish used at the end of a sentence to indicate a request for confirmation or agreement from the listener. It is similar to using \"right\" or \"isn\\'t it\" in English. (tone 2)\\n\\n2. Hor with a low tone is a Singlish particle usually used when giving warnings or disclaimers. (tone 6)', 'horn': 'A warning sound made by a vehicle, usually in the form of a honk or beep, to alert other drivers or pedestrians.', 'horrigible': 'Extremely bad or unpleasant; deserving of strong condemnation or disgust. Derived from the word \"horrible\"', 'hotplate': \"Hotplate is a popular cooking method and dish in Singapore where sizzling, hot food is served on a heated metal plate. The plate itself is called a 'hotplate' and is usually an oval or rectangular-shaped metal dish that is heated on a stove or grill until it becomes extremely hot. The food, usually consisting of meat, seafood, or vegetables, is then placed on top of the hotplate and served sizzling, steaming, and flavorful.\", 'hotpot': \"It's typically a boiling pot of soup or broth that is heated at the table, with raw ingredients like meats, seafood, vegetables and noodles cooked in it. These ingredients are then dipped in a variety of sauces to add flavor to the dish. It's a popular social activity in Singapore\", 'huat kueh': 'Huat kueh is a traditional Chinese steamed cake. The cake usually has a round or dome shape and is made from rice flour, wheat flour, and yeast. The name \"huat kueh\" in Hokkien dialect translates to \"prosperity cake\".', 'hum chim peng': 'Literally \"salty fried biscuit\", this is a round fried dough that comes in salty of sweet varieties. The sweet one usually contains red bean paste, and the salty one contains five spice.', 'ice kachang': 'a Malaysian dessert made with shaved ice and red beans, but can also include other ingredients', 'ikan kicap': \" Ikan kicap, also known as ikan masak kicap, is a popular Malay dish in Singapore and Malaysia. It is comprised of fish, usually of the ikan tenggiri or ikan kurau variety, simmered in a rich and savory soy sauce-based gravy. The gravy is typically made from soy sauce, garlic, onions, ginger, tamarind paste, and bird's eye chili for a spicy kick.\", 'ikan kuning': 'Ikan kuning is a Malay term commonly used in Singapore and Malaysia to refer to a particular type of fish called yellowstripe scad in English. The fish is commonly found in Southeast Asian waters and is a popular ingredient in local dishes. \\\\n\\\\n\"Ikan\" means fish in Malay while \"kuning\" means yellow, so the literal translation is \"yellow fish\".', 'ikan merah': 'Ikan Merah is a Malay term that literally means \"red fish\". In Singlish, it is commonly used to refer to the Red Snapper fish.', 'inche': 'Encik', 'indian rojak': 'A snack dish that consists of various deep-fried elements such as dough fritters and prawn fritters, mixed with raw vegetables such as cucumbers and onions, and then drizzled with sweet and tangy peanut sauce.', 'ipoh hor fun': 'Ipoh hor fun is a type of noodle dish that is popular in Malaysia, particularly in the town of Ipoh. The dish is made of flat rice noodles that have been boiled until soft and springy, then served in a savoury broth with shredded chicken, prawns, bean sprouts, and scallions. The broth is typically made of chicken or pork bones, as well as herbs and spices like ginger and garlic. The dish may also be served with a side of chilli or soy sauce for added flavouring.', 'iron rice bowl': 'Iron rice bowl is a term commonly used in Singapore to refer to a secure job with guaranteed employment, stability, and steady income. The phrase originates from the idea of a rice bowl that is made of iron, which is sturdy and difficult to break. The term is often used to describe government jobs, which were historically seen as \"unbreakable\" and immune to economic fluctuations.', 'is it?': 'A common Singlish expression used to seek clarification or confirmation. It is normally used as a tag at the back of the sentence and can also be used as a response to a statement or question to show disbelief, surprise, or simply request for more information.', 'itek tim': 'A soup made of duck, tomatoes, green peppers, salted vegetables and preserved sour plums simmered together', 'jaga': 'To keep watch or guard something', 'jialat': 'Terrible, severe, troublesome', 'kacau': 'to disturb or disrupt', 'kachiao': 'kacau', 'kaciau': 'kacau', 'kangkong': 'a leafy vegetable with hollow stems commonly grown in East and Southeast Asia', 'kaya': 'a thick spread made from eggs, sugar, and coconut milk', 'kelong': 'Kelong refers to a fishing trap but is typically used in Singlish to refer to the act of delliberately losing.', 'ketupat': 'rice wrapped in leaves and steamed, a malay dish', 'kopitiam': 'a traditional coffee shop commonly found in Southeast Asia, distinguished from café', 'kuih': 'general term for cakes, pastries, biscuits, etc, typically referring to the snacks and desserts found in various parts of SE Asia, China, Taiwan, etc; specifically sweet desserts, in regions such as Singapore, Malaysia and Indonesia', 'laksa': 'Peranakan spicy noodle soup', 'lontong': 'A Malay dish consisting of rice pressed into square pieces and vegetables served with a coconut gravy', 'mah': '1. The high tone mah (tone 1) is a sentence final particle used for questions, just like the Mandarin question marker.\\n2. The mid level tone mah (tone 3) is used at the end of statements, sometimes to emphasise something that both speaker and the hearer already knows.', 'mee': 'Noodles or a dish containing noodles', 'meh': 'Final question particle expressing skepticism. (from Wiktionary)\\nIt is a high level tone particle (tone 1)', 'mid-autumn festival': 'NE:oth', 'mooncake': 'a traditional Chinese pastry usually eaten during the Mid-Autumn Festival, typically filled with lotus seed paste or red bean paste', 'murtabak': 'A pancake or pan-fried bread usually stuffed with eggs, onions and ground meat', 'nasi lemak': 'Fragrant rice dish cooked in coconut milk', 'nasi padang': 'Steamed white rice served with various meat and vegetable dishes', 'ngo hiang': 'dried beancurd skin wrapped with meat, vegetables and five spice powder in a sausage-like roll', 'no worries': 'an expression that is uttered to acknowledge gratitude', 'opeh': 'A leaf that comes from the betel nut palm, used as a wrapper for food', 'otah': 'a mixture of fish paste, coconut milk, chilli paste, and assorted spices, which is wrapped in a banana leaf and then steamed or grilled', 'otak-otak': 'a mixture of fish paste, coconut milk, chilli paste, and assorted spices, which is wrapped in a banana leaf and then steamed or grilled', 'oyster omelette': 'fried eggs with oyster and flour', 'peranakan': 'a mixed Chinese/Malay culture', 'popiah': 'A spring roll dish with a filling of bean sprouts and other ingredients commonly found in Taiwan, Malaysia and Singapore', 'potong': 'A ice pop with local flavours like duriang, red bean, chendol etc.', 'prata': 'North Indian pancake', 'red bean': 'red-coloured bean commonly used in East Asian cuisines, sometimes in soup or in the form of a paste', 'rempah': 'a mixture of spices and oil, used as a base for curry', 'rendang': 'a meat dish slowly cooked in coconut milk and spices', 'rojak': 'Traditional Indonesian fruit and vegetable salad dish', 'roti jala': 'a yellow crepe eaten with curry', 'roti john': 'sliced halves of a baguette filled with onion, minced meat, egg, ketchup and chilli sauce', 'sambal belacan': 'Chilli paste', 'sambal': 'Chilli paste', 'sari': 'Traditional Indian attire for women', 'sayur lodeh': 'a vegetable dish stewed in coconut milk', 'sia': 'This rising tone sia (tone 2) can be used to express closeness with the listener.', 'siew mai': 'a traditional Chinese dumpling stuffed with ground pork and shrimp (either chopped, small or whole), and wrapped with skin made of lye water dough', 'singlish': 'the dialect of English spoken in Singapore in informal contexts', 'soto ayam': 'Yellow spicy chicken soup with rice cakes and/or noodles', 'sotong': 'squid', 'talk cock': 'To talk cock in Singlish means to speak nonsense or ramble on without making any sense. It is often used as a humorous way to refer to someone who is talking nonsense or spouting irrelevant details in a conversation. Overall, \"talk cock\" is a commonly used Singlish phrase that is understood by many Singaporeans. Its humorous connotation adds a playful element to casual conversations among friends and family.', 'taupok': 'fried bean curd puff', 'teh tarik': 'a hot milk tea that is poured back and forth between two metal cups several times, giving it a frothy top', 'terbalik': 'Upside-down, reversed', 'thaipusam': 'Hindu festival celebrated on the full moon in the Tamil month of Thai', 'thosai': 'Southern Indian pancake made from rice batter and black lentils', 'tofu': 'Beancurd', 'vesak day': \"Buddhists' holy day\", 'wake up your ideas': 'A phrase used at someone who has incorrect or unrealistic ideas or methods, especially if they are not up to standard. This phrase is used to tell the person to change their current mode of thinking and be more proactive.', 'wantan': 'dumpling and noodles served dry or in soup with vegetables', 'wet market': 'a market that sells fresh produce or fresh meat (traditionally with live animals being sold)', 'what': 'Emphasizes the truth of an assertion made to contradict an evidently false assumption held by the listener. (from Wiktionary)\\nIt pronounced with a low tone (tone 6).', 'wor': 'A mid level tone particle  (tone 3) used to express surprise, disbelief or doubt.', 'word': 'def', 'xiao long bao': 'a type of steamed bun traditionally filled with pork and prepared in bamboo steaming baskets', 'yong tau fu': 'various foods (primarily beancurd/tofu, and also chilli) stuffed with fish paste or meat filling', 'you tiao': 'a deep-fried dough stick'}\n"
     ]
    }
   ],
   "source": [
    "# Merge both dictionaries\n",
    "upd_abbreviations = {**abbreviations, **merged_dict}"
   ]
  },
  {
   "cell_type": "markdown",
   "metadata": {},
   "source": [
    "## Save this dictionary of slangs"
   ]
  },
  {
   "cell_type": "code",
   "execution_count": null,
   "metadata": {},
   "outputs": [
    {
     "name": "stdout",
     "output_type": "stream",
     "text": [
      "Dictionary saved to dictionary/slang.json\n"
     ]
    }
   ],
   "source": [
    "folder_path = \"dictionary\"\n",
    "json_file_path = os.path.join(folder_path, \"slang.json\")\n",
    "\n",
    "os.makedirs(folder_path, exist_ok=True)\n",
    "\n",
    "with open(json_file_path, \"w\", encoding=\"utf-8\") as f:\n",
    "    json.dump(upd_abbreviations, f, indent=4, ensure_ascii=False)\n",
    "\n",
    "print(f\"Dictionary saved to {json_file_path}\")"
   ]
  },
  {
   "cell_type": "markdown",
   "metadata": {},
   "source": [
    "# Round 1 (Facebook Comments)"
   ]
  },
  {
   "cell_type": "markdown",
   "metadata": {},
   "source": [
    "## Load slang dictionary"
   ]
  },
  {
   "cell_type": "code",
   "execution_count": null,
   "metadata": {},
   "outputs": [],
   "source": [
    "json_file_path = \"dictionary/slang.json\"\n",
    "\n",
    "with open(json_file_path, \"r\", encoding=\"utf-8\") as f:\n",
    "    slang_dict = json.load(f)"
   ]
  },
  {
   "cell_type": "markdown",
   "metadata": {},
   "source": [
    "## Load facebook comments"
   ]
  },
  {
   "cell_type": "code",
   "execution_count": null,
   "metadata": {},
   "outputs": [
    {
     "data": {
      "text/plain": [
       "['ANGER', 'DISGUST', 'FEAR', 'JOY', 'SADNESS', 'SURPRISE', 'NEUTRAL']"
      ]
     },
     "execution_count": 9,
     "metadata": {},
     "output_type": "execute_result"
    }
   ],
   "source": [
    "facebook_df = pd.read_excel(\"data/en_dataset.xlsx\")\n",
    "Available_emotions = list(facebook_df.emotion.unique())\n",
    "Available_emotions"
   ]
  },
  {
   "cell_type": "markdown",
   "metadata": {},
   "source": [
    "## Init worker"
   ]
  },
  {
   "cell_type": "code",
   "execution_count": 8,
   "metadata": {},
   "outputs": [],
   "source": [
    "myWorker = OpenAI(model=\"gpt-4o-mini\", temperature=0, max_retries=20)"
   ]
  },
  {
   "cell_type": "markdown",
   "metadata": {},
   "source": [
    "## Prompt"
   ]
  },
  {
   "cell_type": "code",
   "execution_count": 16,
   "metadata": {},
   "outputs": [],
   "source": [
    "def slang_prompt(comment, entity, emotion, Available_emotions, slang_part):\n",
    "    prompt = f\"\"\"# Objective: You are an expert annotator. Your task is to extract the aspect, opinion, and sentiment from the comment below based on the provided entity and emotion.\n",
    "\n",
    "## Rules:\n",
    "1. When assigning the Emotion choose one from: {Available_emotions}.\n",
    "2. When assigning the Sentiment choose one from: ['POSITIVE', 'NEGATIVE', 'NEUTRAL'].\n",
    "3. Do not adjust the provided Entity and Emotion.\n",
    "4. If the comment contains slang, **use the provided meaning to infer the correct aspect and opinion**.\n",
    "5. If the slang expresses sentiment incorporate it into the opinion.\n",
    "6. Always use this structure:\n",
    "```\n",
    "Comment:\n",
    "Entity:\n",
    "Aspect:\n",
    "Opinion:\n",
    "Emotion:\n",
    "Sentiment:\n",
    "```\n",
    "\n",
    "## Examples:\n",
    "\n",
    "### Example 1:\n",
    "Comment: \"That movie was straight fire!🔥 Best thing I've watched all year.\"\n",
    "Entity: Movie\n",
    "Aspect: Quality\n",
    "Opinion: \"straight fire (amazing quality)\"\n",
    "Emotion: JOY\n",
    "Sentiment: POSITIVE\n",
    "Slang: \"fire\" → \"amazing\"\n",
    "\n",
    "### Example 2:\n",
    "Comment: \"Bro, this queue is mad long. I'm losing my mind.\"\n",
    "Entity: Queue\n",
    "Aspect: Wait Time\n",
    "Opinion: \"mad long (very long)\"\n",
    "Emotion: ANGER\n",
    "Sentiment: NEGATIVE\n",
    "Slang: \"mad long\" → \"very long\"\n",
    "\n",
    "# Task:\n",
    "Comment: {comment}\n",
    "Entity: {entity}\n",
    "Aspect:\n",
    "Opinion:\n",
    "Emotion: {emotion}\n",
    "Sentiment:\n",
    "{slang_part}\n",
    "\"\"\"\n",
    "    return prompt\n"
   ]
  },
  {
   "cell_type": "markdown",
   "metadata": {},
   "source": [
    "## Processing"
   ]
  },
  {
   "cell_type": "code",
   "execution_count": null,
   "metadata": {},
   "outputs": [
    {
     "name": "stderr",
     "output_type": "stream",
     "text": [
      "100%|██████████| 2571/2571 [1:27:52<00:00,  2.05s/it]  \n"
     ]
    }
   ],
   "source": [
    "start_index = 0\n",
    "\n",
    "resp_list = []\n",
    "\n",
    "for index, row in tqdm(facebook_df.iloc[start_index:].iterrows(), total=len(facebook_df) - start_index):\n",
    "    # Extract values from the row\n",
    "    comment = row.text\n",
    "    entity = row.entity\n",
    "    emotion = row.emotion\n",
    "\n",
    "    # Collect slang meanings\n",
    "    pot_slangs = comment.split()\n",
    "    slang_part = \"\"\n",
    "    for slang in pot_slangs:\n",
    "        slang = re.sub(r\"[^\\w\\s]\", \"\", slang.strip().lower())\n",
    "        if slang in abbreviations:\n",
    "            slang_part += f\"\\nAdditional information: The slang '{slang}' in the comment means '{abbreviations[slang]}'. Use this meaning to refine the aspect, opinion and sentiment.\"\n",
    "\n",
    "    # Generate prompt including all detected slang meanings\n",
    "    s_prompt = slang_prompt(comment, entity, emotion, Available_emotions, slang_part)\n",
    "\n",
    "    # Get model response\n",
    "    resp = myWorker.complete(s_prompt)\n",
    "\n",
    "    # Parse the response safely\n",
    "    lines = resp.text.split(\"\\n\")\n",
    "    annotation = {line.split(\": \")[0]: line.split(\": \")[1] for line in lines if \": \" in line}\n",
    "\n",
    "    resp_list.append(annotation)"
   ]
  },
  {
   "cell_type": "markdown",
   "metadata": {},
   "source": [
    "## Saving the raw responses"
   ]
  },
  {
   "cell_type": "code",
   "execution_count": null,
   "metadata": {},
   "outputs": [],
   "source": [
    "folder_path = \"backup_v2\"\n",
    "json_file_path = os.path.join(folder_path, \"fb_resp_list-GPT4o_mini.json\")\n",
    "\n",
    "os.makedirs(folder_path, exist_ok=True)\n",
    "\n",
    "with open(json_file_path, \"w\") as file:\n",
    "    json.dump(resp_list, file, indent=4)"
   ]
  },
  {
   "cell_type": "code",
   "execution_count": 37,
   "metadata": {},
   "outputs": [],
   "source": [
    "fb_GPT4omini = pd.DataFrame(resp_list)\n",
    "new_facebook_df = pd.DataFrame(\n",
    "    {\n",
    "        'text': facebook_df.text,\n",
    "        'entity': facebook_df.entity,\n",
    "        'emotion': facebook_df.emotion,\n",
    "        'aspect': fb_GPT4omini.Aspect,\n",
    "        'opinion': fb_GPT4omini.Opinion,\n",
    "        'sentiment': fb_GPT4omini.Sentiment\n",
    "    }\n",
    ")"
   ]
  },
  {
   "cell_type": "markdown",
   "metadata": {},
   "source": [
    "## Demojize and stripping of leading and trailing spaces"
   ]
  },
  {
   "cell_type": "code",
   "execution_count": 38,
   "metadata": {},
   "outputs": [],
   "source": [
    "import emoji\n",
    "\n",
    "cols_to_strip = [\"aspect\", \"opinion\", \"sentiment\"]\n",
    "new_facebook_df[cols_to_strip] = new_facebook_df[cols_to_strip].apply(lambda x: x.str.strip())\n",
    "new_facebook_df['text'] = new_facebook_df['text'].apply(emoji.demojize)"
   ]
  },
  {
   "cell_type": "markdown",
   "metadata": {},
   "source": [
    "## Filter and move invalid rows"
   ]
  },
  {
   "cell_type": "code",
   "execution_count": 42,
   "metadata": {},
   "outputs": [],
   "source": [
    "invalid_values = [None, \"\", \"Unknown\", \"N/A\", \"None\"]\n",
    "\n",
    "mask = new_facebook_df[[\"aspect\", \"opinion\", \"sentiment\"]].apply(lambda x: x.isin(invalid_values)).any(axis=1)\n",
    "\n",
    "fb_df_invalid = new_facebook_df[mask]  # Rows to be moved\n",
    "fb_df_cleaned = new_facebook_df[~mask]  # Cleaned DataFrame\n",
    "\n",
    "fb_df_invalid.reset_index(drop=True, inplace=True)\n",
    "fb_df_cleaned.reset_index(drop=True, inplace=True)"
   ]
  },
  {
   "cell_type": "markdown",
   "metadata": {},
   "source": [
    "## Saving cleaned data"
   ]
  },
  {
   "cell_type": "code",
   "execution_count": 43,
   "metadata": {},
   "outputs": [],
   "source": [
    "fb_df_invalid.to_excel(\"./backup_v2/fb_df_invalid.xlsx\", index=False)\n",
    "fb_df_cleaned.to_excel(\"./backup_v2/fb_df_cleaned.xlsx\", index=False)"
   ]
  },
  {
   "cell_type": "markdown",
   "metadata": {},
   "source": [
    "## Findings\n",
    "\n",
    "Without the slang dictionary, GPT-4o-mini may extract wrongly. \n",
    "\n",
    "### Without the slang dictionary\n",
    "row 271\n",
    "- Comment: WP sucks! PAP ftw!\n",
    "- Entity: WP\n",
    "- Emotion: DISGUST\n",
    "- Aspect: Performance\n",
    "- Opinion: \"sucks\"\n",
    "- Sentiment: NEGATIVE\n",
    "\n",
    "row 272\n",
    "- Comment: WP sucks! PAP ftw!\n",
    "- Entity: PAP\n",
    "- Emotion: JOY\n",
    "- Aspect: Performance\n",
    "- Opinion: \"sucks\"\n",
    "- Sentiment: NEGATIVE\n",
    "\n",
    "### With the slang dictionary\n",
    "row 271\n",
    "- Comment: WP sucks! PAP ftw!\n",
    "- Entity: WP\n",
    "- Emotion: DISGUST\n",
    "- Aspect: Performance\n",
    "- Opinion: \"sucks\"\n",
    "- Sentiment: NEGATIVE\n",
    "\n",
    "row 272\n",
    "- Comment: WP sucks! PAP ftw!\n",
    "- Entity: PAP\n",
    "- Emotion: JOY\n",
    "- Aspect: Performance\n",
    "- Opinion: \"ftw (for the win)\"\n",
    "- Sentiment: POSITIVE"
   ]
  },
  {
   "cell_type": "markdown",
   "metadata": {},
   "source": []
  },
  {
   "cell_type": "markdown",
   "metadata": {},
   "source": [
    "# Round 2 (Reddit Comments)"
   ]
  },
  {
   "cell_type": "markdown",
   "metadata": {},
   "source": [
    "## Load slang dictionary"
   ]
  },
  {
   "cell_type": "code",
   "execution_count": null,
   "metadata": {},
   "outputs": [],
   "source": [
    "json_file_path = \"dictionary/slang.json\"\n",
    "\n",
    "with open(json_file_path, \"r\", encoding=\"utf-8\") as f:\n",
    "    slang_dict = json.load(f)"
   ]
  },
  {
   "cell_type": "markdown",
   "metadata": {},
   "source": [
    "## Load Reddit comments and Emotions from Facebook comments"
   ]
  },
  {
   "cell_type": "code",
   "execution_count": null,
   "metadata": {},
   "outputs": [],
   "source": [
    "facebook_df = pd.read_excel(\"data/en_dataset.xlsx\")\n",
    "Available_emotions = list(facebook_df.emotion.unique())\n",
    "\n",
    "reddit_df = pd.read_csv(\"data/reddit_comments.csv\")"
   ]
  },
  {
   "cell_type": "markdown",
   "metadata": {},
   "source": [
    "## Init Worker"
   ]
  },
  {
   "cell_type": "code",
   "execution_count": 124,
   "metadata": {},
   "outputs": [],
   "source": [
    "myWorker = OpenAI(model=\"gpt-4o-mini\", temperature=0, max_retries=20)"
   ]
  },
  {
   "cell_type": "markdown",
   "metadata": {},
   "source": [
    "## Prompt"
   ]
  },
  {
   "cell_type": "code",
   "execution_count": 125,
   "metadata": {},
   "outputs": [],
   "source": [
    "def reddit_prompt_updates(comment, Available_emotions, slang_part):\n",
    "    prompt = f\"\"\"# Objective: You You are an expert annotator. Your task is to extract Entity, Aspect, Opinion, Emotion, and Sentiment from the given comment. Each comment can have multiple entities and aspects, return a structured JSON output.\n",
    "\n",
    "## Rules:\n",
    "1. Each entity must be associated with at least one aspect, opinion, emotion, and sentiment.\n",
    "2. Emotion must be one of: {Available_emotions}.\n",
    "3. Sentiment must be one of: ['POSITIVE', 'NEGATIVE', 'NEUTRAL'].\n",
    "4. If a comment does not explicitly mention an entity, aspect, opinion, emotion, or sentiment, do not infer missing details. Leave those fields blank.\n",
    "5. Format the response as a **JSON list**, where each entity is a dictionary.\n",
    "```\n",
    "[\n",
    "    {{\n",
    "        \"Entity\": \"...\",\n",
    "        \"Aspect\": \"...\",\n",
    "        \"Opinion\": \"...\",\n",
    "        \"Emotion\": \"...\",\n",
    "        \"Sentiment\": \"...\"\n",
    "    }},\n",
    "    {{...}},\n",
    "    ...\n",
    "]\n",
    "```\n",
    "\n",
    "## Examples:\n",
    "\n",
    "### Example 1:\n",
    "Comment: \"Starbucks coffee is overpriced but their atmosphere is cozy.\"\n",
    "[\n",
    "    {{\n",
    "        \"Entity\": \"Starbucks\",\n",
    "        \"Aspect\": \"Price\",\n",
    "        \"Opinion\": \"\"overpriced\"\",\n",
    "        \"Emotion\": \"DISGUST\",\n",
    "        \"Sentiment\": \"NEGATIVE\"\n",
    "    }},\n",
    "    {{\n",
    "        \"Entity\": \"Starbucks\",\n",
    "        \"Aspect\": \"Atmosphere\",\n",
    "        \"Opinion\": \"cozy\",\n",
    "        \"Emotion\": \"SURPRISE\",\n",
    "        \"Sentiment\": \"POSITIVE\"\n",
    "    }}\n",
    "]\n",
    "\n",
    "### Example 2:\n",
    "Comment: \"usa so kpoh for what? biden own country like slumps still wan kpoh?\"\n",
    "[\n",
    "    {{\n",
    "        \"Entity\": \"USA\",\n",
    "        \"Aspect\": \"Foreign Policy\",\n",
    "        \"Opinion\": \"kpoh (busybody)\",\n",
    "        \"Emotion\": \"DISGUST\",\n",
    "        \"Sentiment\": \"NEGATIVE\"\n",
    "    }},\n",
    "    {{\n",
    "        \"Entity\": \"Biden\",\n",
    "        \"Aspect\": \"Governance\",\n",
    "        \"Opinion\": \"own country like slumps\",\n",
    "        \"Emotion\": \"DISGUST\",\n",
    "        \"Sentiment\": \"NEGATIVE\"\n",
    "    }}\n",
    "]\n",
    "\n",
    "### Example 10:\n",
    "Comment: \"shiok sia! ytd woodlands and JB customs no queue at all\"\n",
    "[\n",
    "    {{\n",
    "        \"Entity\": \"Woodlands\",\n",
    "        \"Aspect\": \"Wait Time\",\n",
    "        \"Opinion\": \"no queue at all\",\n",
    "        \"Emotion\": \"JOY\",\n",
    "        \"Sentiment\": \"POSITIVE\"\n",
    "    }},\n",
    "    {{\n",
    "        \"Entity\": \"JB customs\",\n",
    "        \"Aspect\": \"Wait Time\",\n",
    "        \"Opinion\": \"\"no queue at all\"\",\n",
    "        \"Emotion\": \"JOY\",\n",
    "        \"Sentiment\": \"POSITIVE\"\n",
    "    }}\n",
    "]\n",
    "\n",
    "# Task:\n",
    "Comment: \"{comment}\"\n",
    "{slang_part}\n",
    "\n",
    "\"\"\"\n",
    "    return prompt"
   ]
  },
  {
   "cell_type": "markdown",
   "metadata": {},
   "source": [
    "## Process"
   ]
  },
  {
   "cell_type": "code",
   "execution_count": null,
   "metadata": {},
   "outputs": [
    {
     "name": "stderr",
     "output_type": "stream",
     "text": [
      "100%|██████████| 3589/3589 [2:08:17<00:00,  2.14s/it]  \n"
     ]
    }
   ],
   "source": [
    "start_index = 0  # row number to start from\n",
    "reddit_list = []\n",
    "\n",
    "for index, row in tqdm(reddit_df.iloc[start_index:].iterrows(), total=len(reddit_df) - start_index):\n",
    "    comment = row.comment\n",
    "\n",
    "    # Collect slang meanings\n",
    "    pot_slangs = comment.split()\n",
    "    slang_part = \"\"\n",
    "    for slang in pot_slangs:\n",
    "        slang = re.sub(r\"[^\\w\\s]\", \"\", slang.strip().lower())\n",
    "        if slang in upd_abbreviations:\n",
    "            slang_part += f\"\\nAdditional information: The slang '{slang}' in the comment could mean '{upd_abbreviations[slang]}'. Use this potential meaning to refine the aspect, opinion and sentiment.\"\n",
    "\n",
    "    r_prompt = reddit_prompt_updates(comment, Available_emotions, slang_part)\n",
    "\n",
    "    response = myWorker.complete(r_prompt)\n",
    "    cleaned_response = response.text.strip(\"```json\").strip(\"```\").strip()\n",
    "    reddit_list.append(cleaned_response)"
   ]
  },
  {
   "cell_type": "markdown",
   "metadata": {},
   "source": [
    "## Saving the raw responses"
   ]
  },
  {
   "cell_type": "code",
   "execution_count": null,
   "metadata": {},
   "outputs": [],
   "source": [
    "folder_path = \"backup_v2\"\n",
    "json_file_path = os.path.join(folder_path, \"raw_reddit_list-GPT4o_mini.json\")\n",
    "\n",
    "os.makedirs(folder_path, exist_ok=True)\n",
    "\n",
    "# Save to JSON file\n",
    "with open(json_file_path, \"w\") as file:\n",
    "    json.dump(reddit_list, file, indent=4)"
   ]
  },
  {
   "cell_type": "markdown",
   "metadata": {},
   "source": []
  },
  {
   "cell_type": "markdown",
   "metadata": {},
   "source": [
    "## Make the responses into a dataframe"
   ]
  },
  {
   "cell_type": "code",
   "execution_count": 18,
   "metadata": {},
   "outputs": [],
   "source": [
    "with open(\"backup_v2/raw_reddit_list-GPT4o_mini.json\", \"r\", encoding=\"utf-8\") as f:\n",
    "    loaded_reddit = json.load(f)"
   ]
  },
  {
   "cell_type": "code",
   "execution_count": 19,
   "metadata": {},
   "outputs": [],
   "source": [
    "processed_list = []\n",
    "\n",
    "for cleaned_replies, original in zip(loaded_reddit, reddit_df.itertuples(index=False)):\n",
    "    comment = original.comment\n",
    "\n",
    "    try:\n",
    "        annotations = json.loads(cleaned_replies)\n",
    "    except json.JSONDecodeError:\n",
    "        print(f\"Error parsing JSON\")\n",
    "        print(original)\n",
    "        break\n",
    "\n",
    "    for annotation in annotations:\n",
    "        annotation[\"text\"] = comment  # Duplicate the comment for each annotation\n",
    "        processed_list.append(annotation)"
   ]
  },
  {
   "cell_type": "code",
   "execution_count": 20,
   "metadata": {},
   "outputs": [],
   "source": [
    "reddit_GPT4omini = pd.DataFrame(processed_list)\n",
    "reddit_GPT4omini.rename(columns={\"Entity\": \"entity\", \"Aspect\": \"aspect\", \"Emotion\": \"emotion\", \"Opinion\": \"opinion\", \"Sentiment\": \"sentiment\"}, inplace=True)\n",
    "new_order = [\"text\", \"entity\", \"emotion\", \"aspect\", \"opinion\", \"sentiment\"]\n",
    "reddit_GPT4omini = reddit_GPT4omini[new_order]"
   ]
  },
  {
   "cell_type": "markdown",
   "metadata": {},
   "source": [
    "## Demojize and stripping of leading and trailing spaces"
   ]
  },
  {
   "cell_type": "code",
   "execution_count": 21,
   "metadata": {},
   "outputs": [],
   "source": [
    "import emoji\n",
    "\n",
    "cols_to_strip = [\"aspect\", \"opinion\", \"sentiment\"]\n",
    "reddit_GPT4omini[cols_to_strip] = reddit_GPT4omini[cols_to_strip].apply(lambda x: x.str.strip())\n",
    "reddit_GPT4omini['text'] = reddit_GPT4omini['text'].apply(lambda x: emoji.demojize(str(x)) if isinstance(x, str) else \"\") # Replaces NaN or floats with \"\" to avoid errors"
   ]
  },
  {
   "cell_type": "markdown",
   "metadata": {},
   "source": [
    "## Map new emotions to available 7"
   ]
  },
  {
   "cell_type": "code",
   "execution_count": null,
   "metadata": {},
   "outputs": [],
   "source": [
    "emotion_mapping = {\n",
    "    \"HOPE\": \"JOY\",\n",
    "    \"CONFUSION\": \"SURPRISE\",\n",
    "    \"FRUSTRATION\": \"ANGER\",\n",
    "    \"ANGRY\": \"ANGER\",\n",
    "    \"DISAPPOINTMENT\": \"SADNESS\",\n",
    "    \"FAIRNESS\": \"NEUTRAL\",\n",
    "    \"DISHEARTENING\": \"SADNESS\",\n",
    "    \"ANNOYANCE\": \"ANGER\",\n",
    "    \"EMPATHY\": \"NEUTRAL\",\n",
    "    \"SHAME\": \"DISGUST\",\n",
    "    \"PUZZLED\": \"SURPRISE\",\n",
    "    \"CURIOSITY\": \"SURPRISE\",\n",
    "    \"ANGER\": \"ANGER\",\n",
    "    \"DISGUST\": \"DISGUST\",\n",
    "    \"FEAR\": \"FEAR\",\n",
    "    \"JOY\": \"JOY\",\n",
    "    \"SADNESS\": \"SADNESS\",\n",
    "    \"SURPRISE\": \"SURPRISE\",\n",
    "    \"NEUTRAL\": \"NEUTRAL\"\n",
    "}\n",
    "\n",
    "reddit_GPT4omini[\"emotion\"] = reddit_GPT4omini[\"emotion\"].map(emotion_mapping)"
   ]
  },
  {
   "cell_type": "markdown",
   "metadata": {},
   "source": [
    "## Remove Illegal Characters Before Saving"
   ]
  },
  {
   "cell_type": "code",
   "execution_count": 24,
   "metadata": {},
   "outputs": [],
   "source": [
    "def remove_illegal_chars(text):\n",
    "    if isinstance(text, str):  # Ensure it's a string\n",
    "        return re.sub(r'[\\x00-\\x1F\\x7F]', '', text)  # Remove control characters\n",
    "    return text  # Return unchanged for non-strings\n",
    "\n",
    "new_reddit_df = reddit_GPT4omini.map(remove_illegal_chars)"
   ]
  },
  {
   "cell_type": "markdown",
   "metadata": {},
   "source": [
    "## Filter and move invalid rows"
   ]
  },
  {
   "cell_type": "code",
   "execution_count": 25,
   "metadata": {},
   "outputs": [],
   "source": [
    "invalid_values = [None, \"\", \"Unknown\", \"N/A\", \"None\"]\n",
    "\n",
    "mask = new_reddit_df[[\"text\", \"entity\", \"emotion\", \"aspect\", \"opinion\", \"sentiment\"]].apply(lambda x: x.isin(invalid_values)).any(axis=1)\n",
    "\n",
    "reddit_df_invalid = new_reddit_df[mask]  # Rows to be moved\n",
    "reddit_df_cleaned = new_reddit_df[~mask]  # Cleaned DataFrame\n",
    "\n",
    "reddit_df_invalid.reset_index(drop=True, inplace=True)\n",
    "reddit_df_cleaned.reset_index(drop=True, inplace=True)"
   ]
  },
  {
   "cell_type": "markdown",
   "metadata": {},
   "source": [
    "## Saving cleaned data"
   ]
  },
  {
   "cell_type": "code",
   "execution_count": 26,
   "metadata": {},
   "outputs": [],
   "source": [
    "import openpyxl\n",
    "\n",
    "reddit_df_invalid.to_excel(\"backup_v2/reddit_df_invalid.xlsx\", index=False, engine=\"openpyxl\")\n",
    "reddit_df_cleaned.to_excel(\"backup_v2/reddit_df_cleaned.xlsx\", index=False, engine=\"openpyxl\")"
   ]
  },
  {
   "cell_type": "markdown",
   "metadata": {},
   "source": []
  },
  {
   "cell_type": "markdown",
   "metadata": {},
   "source": [
    "# Creating Train-Validation set and Test Set"
   ]
  },
  {
   "cell_type": "code",
   "execution_count": 27,
   "metadata": {},
   "outputs": [],
   "source": [
    "fb_cleaned = pd.read_excel(\"backup_v2/fb_df_cleaned.xlsx\")\n",
    "reddit_cleaned = pd.read_excel(\"backup_v2/reddit_df_cleaned.xlsx\")"
   ]
  },
  {
   "cell_type": "code",
   "execution_count": 28,
   "metadata": {},
   "outputs": [
    {
     "name": "stdout",
     "output_type": "stream",
     "text": [
      "emotion\n",
      "NEUTRAL     0.229758\n",
      "DISGUST     0.202081\n",
      "JOY         0.188472\n",
      "SADNESS     0.134035\n",
      "ANGER       0.111619\n",
      "FEAR        0.079140\n",
      "SURPRISE    0.054895\n",
      "Name: proportion, dtype: float64\n",
      "emotion\n",
      "NEUTRAL     2009\n",
      "DISGUST     1767\n",
      "JOY         1648\n",
      "SADNESS     1172\n",
      "ANGER        976\n",
      "FEAR         692\n",
      "SURPRISE     480\n",
      "Name: count, dtype: int64\n"
     ]
    }
   ],
   "source": [
    "df_combined = pd.concat([fb_cleaned, reddit_cleaned], ignore_index=True)\n",
    "print(df_combined[\"emotion\"].value_counts(normalize=True))\n",
    "print(df_combined[\"emotion\"].value_counts())"
   ]
  },
  {
   "cell_type": "code",
   "execution_count": 29,
   "metadata": {},
   "outputs": [],
   "source": [
    "from sklearn.model_selection import train_test_split\n",
    "\n",
    "# 80-20 split first (train-validation + test)\n",
    "train_val_df, test_df = train_test_split(\n",
    "    df_combined,\n",
    "    test_size=0.20,\n",
    "    stratify=df_combined[\"emotion\"],\n",
    "    random_state=42\n",
    ")\n"
   ]
  },
  {
   "cell_type": "code",
   "execution_count": 30,
   "metadata": {},
   "outputs": [],
   "source": [
    "train_val_df.to_excel(\"backup_v2/train_val_df.xlsx\", index=False, engine=\"openpyxl\")\n",
    "test_df.to_excel(\"backup_v2/test_df.xlsx\", index=False, engine=\"openpyxl\")"
   ]
  },
  {
   "cell_type": "code",
   "execution_count": 31,
   "metadata": {},
   "outputs": [
    {
     "data": {
      "text/plain": [
       "8744"
      ]
     },
     "execution_count": 31,
     "metadata": {},
     "output_type": "execute_result"
    }
   ],
   "source": [
    "len(df_combined)"
   ]
  }
 ],
 "metadata": {
  "kernelspec": {
   "display_name": "MISC-text-mining",
   "language": "python",
   "name": "python3"
  },
  "language_info": {
   "codemirror_mode": {
    "name": "ipython",
    "version": 3
   },
   "file_extension": ".py",
   "mimetype": "text/x-python",
   "name": "python",
   "nbconvert_exporter": "python",
   "pygments_lexer": "ipython3",
   "version": "3.10.6"
  }
 },
 "nbformat": 4,
 "nbformat_minor": 2
}
