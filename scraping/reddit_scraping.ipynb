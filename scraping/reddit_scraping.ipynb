{
 "cells": [
  {
   "cell_type": "code",
   "execution_count": 1,
   "id": "5b017237",
   "metadata": {},
   "outputs": [],
   "source": [
    "import numpy as np\n",
    "import pandas as pd\n",
    "import praw\n",
    "import random"
   ]
  },
  {
   "cell_type": "code",
   "execution_count": null,
   "id": "9ad55a95",
   "metadata": {},
   "outputs": [],
   "source": [
    "reddit = praw.Reddit(\n",
    "    client_id='',\n",
    "    client_secret='',\n",
    "    user_agent=''\n",
    ")"
   ]
  },
  {
   "cell_type": "code",
   "execution_count": 3,
   "id": "558a925f",
   "metadata": {},
   "outputs": [],
   "source": [
    "subreddit_name = 'Singapore'"
   ]
  },
  {
   "cell_type": "code",
   "execution_count": 4,
   "id": "d291557d",
   "metadata": {},
   "outputs": [],
   "source": [
    "subreddit = reddit.subreddit(subreddit_name)"
   ]
  },
  {
   "cell_type": "code",
   "execution_count": 5,
   "id": "cf8c47ac",
   "metadata": {},
   "outputs": [
    {
     "data": {
      "text/plain": [
       "Subreddit(display_name='Singapore')"
      ]
     },
     "execution_count": 5,
     "metadata": {},
     "output_type": "execute_result"
    }
   ],
   "source": [
    "subreddit"
   ]
  },
  {
   "cell_type": "code",
   "execution_count": 6,
   "id": "ff5c207e",
   "metadata": {},
   "outputs": [],
   "source": [
    "comments = []"
   ]
  },
  {
   "cell_type": "code",
   "execution_count": 7,
   "id": "a46c991b",
   "metadata": {},
   "outputs": [],
   "source": [
    "posts = list(subreddit.hot(limit=5)) + list(subreddit.new(limit=5)) + list(subreddit.top(limit=5))"
   ]
  },
  {
   "cell_type": "code",
   "execution_count": 8,
   "id": "dbf68fbf",
   "metadata": {},
   "outputs": [],
   "source": [
    "for post in posts:\n",
    "    post.comments.replace_more(limit=None)\n",
    "    for comment in post.comments.list():\n",
    "        comments.append({\"comment\": comment.body})"
   ]
  },
  {
   "cell_type": "code",
   "execution_count": 9,
   "id": "34766afa",
   "metadata": {},
   "outputs": [],
   "source": [
    "df = pd.DataFrame (comments, columns=[\"comment\"])"
   ]
  },
  {
   "cell_type": "code",
   "execution_count": 10,
   "id": "c68336e2",
   "metadata": {},
   "outputs": [
    {
     "data": {
      "text/html": [
       "<div>\n",
       "<style scoped>\n",
       "    .dataframe tbody tr th:only-of-type {\n",
       "        vertical-align: middle;\n",
       "    }\n",
       "\n",
       "    .dataframe tbody tr th {\n",
       "        vertical-align: top;\n",
       "    }\n",
       "\n",
       "    .dataframe thead th {\n",
       "        text-align: right;\n",
       "    }\n",
       "</style>\n",
       "<table border=\"1\" class=\"dataframe\">\n",
       "  <thead>\n",
       "    <tr style=\"text-align: right;\">\n",
       "      <th></th>\n",
       "      <th>comment</th>\n",
       "    </tr>\n",
       "  </thead>\n",
       "  <tbody>\n",
       "    <tr>\n",
       "      <th>0</th>\n",
       "      <td>Slowly losing my father to late stage dementia...</td>\n",
       "    </tr>\n",
       "    <tr>\n",
       "      <th>1</th>\n",
       "      <td>Checked my mailbox this morning and received t...</td>\n",
       "    </tr>\n",
       "    <tr>\n",
       "      <th>2</th>\n",
       "      <td>Strongly feel like anyone who’s job role is “H...</td>\n",
       "    </tr>\n",
       "    <tr>\n",
       "      <th>3</th>\n",
       "      <td>Does anyone else feel like you’re just “slow”?...</td>\n",
       "    </tr>\n",
       "    <tr>\n",
       "      <th>4</th>\n",
       "      <td>Good morning all have a great Wednesday and st...</td>\n",
       "    </tr>\n",
       "  </tbody>\n",
       "</table>\n",
       "</div>"
      ],
      "text/plain": [
       "                                             comment\n",
       "0  Slowly losing my father to late stage dementia...\n",
       "1  Checked my mailbox this morning and received t...\n",
       "2  Strongly feel like anyone who’s job role is “H...\n",
       "3  Does anyone else feel like you’re just “slow”?...\n",
       "4  Good morning all have a great Wednesday and st..."
      ]
     },
     "execution_count": 10,
     "metadata": {},
     "output_type": "execute_result"
    }
   ],
   "source": [
    "df.head()"
   ]
  },
  {
   "cell_type": "code",
   "execution_count": 14,
   "id": "e2dc8453",
   "metadata": {},
   "outputs": [],
   "source": [
    "df.to_csv('reddit_comments.csv', index=False)"
   ]
  }
 ],
 "metadata": {
  "kernelspec": {
   "display_name": "Python 3 (ipykernel)",
   "language": "python",
   "name": "python3"
  },
  "language_info": {
   "codemirror_mode": {
    "name": "ipython",
    "version": 3
   },
   "file_extension": ".py",
   "mimetype": "text/x-python",
   "name": "python",
   "nbconvert_exporter": "python",
   "pygments_lexer": "ipython3",
   "version": "3.9.6"
  }
 },
 "nbformat": 4,
 "nbformat_minor": 5
}
