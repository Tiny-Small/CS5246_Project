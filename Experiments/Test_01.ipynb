{
 "cells": [
  {
   "cell_type": "code",
   "execution_count": 1,
   "metadata": {},
   "outputs": [],
   "source": [
    "from transformers import AutoTokenizer\n",
    "import pandas as pd"
   ]
  },
  {
   "cell_type": "code",
   "execution_count": 2,
   "metadata": {},
   "outputs": [],
   "source": [
    "# Training setup and loop\n",
    "model_ckpt = \"bert-base-uncased\"\n",
    "batch_size = 16\n",
    "n_epoch = 10 #5\n",
    "\n",
    "data_path = \"../CJ_model/data/en_dataset.xlsx\"\n",
    "\n",
    "df = pd.read_excel(data_path)\n",
    "df = df.map(lambda x: x.strip())\n",
    "df = df.drop_duplicates()"
   ]
  },
  {
   "cell_type": "code",
   "execution_count": 4,
   "metadata": {},
   "outputs": [],
   "source": [
    "from dotenv import load_dotenv\n",
    "import os\n",
    "\n",
    "load_dotenv()\n",
    "\n",
    "HF_TOKEN = os.getenv(\"HF_TOKEN\")"
   ]
  },
  {
   "cell_type": "code",
   "execution_count": null,
   "metadata": {},
   "outputs": [
    {
     "data": {
      "application/vnd.jupyter.widget-view+json": {
       "model_id": "8f591843e16a48b1abc1f02de7398bba",
       "version_major": 2,
       "version_minor": 0
      },
      "text/plain": [
       "tokenizer_config.json:   0%|          | 0.00/48.0 [00:00<?, ?B/s]"
      ]
     },
     "metadata": {},
     "output_type": "display_data"
    },
    {
     "data": {
      "application/vnd.jupyter.widget-view+json": {
       "model_id": "094c7d3ed6b44264ae79eaa1940a80b6",
       "version_major": 2,
       "version_minor": 0
      },
      "text/plain": [
       "config.json:   0%|          | 0.00/570 [00:00<?, ?B/s]"
      ]
     },
     "metadata": {},
     "output_type": "display_data"
    },
    {
     "data": {
      "application/vnd.jupyter.widget-view+json": {
       "model_id": "b87efface7bd41ac8c267cc2c2a3dcc6",
       "version_major": 2,
       "version_minor": 0
      },
      "text/plain": [
       "vocab.txt:   0%|          | 0.00/232k [00:00<?, ?B/s]"
      ]
     },
     "metadata": {},
     "output_type": "display_data"
    },
    {
     "data": {
      "application/vnd.jupyter.widget-view+json": {
       "model_id": "af89fd77a7254db6b3d46dceb9e962d1",
       "version_major": 2,
       "version_minor": 0
      },
      "text/plain": [
       "tokenizer.json:   0%|          | 0.00/466k [00:00<?, ?B/s]"
      ]
     },
     "metadata": {},
     "output_type": "display_data"
    }
   ],
   "source": [
    "cache_dir = \"../huggingface_models\"\n",
    "model_ckpt = \"bert-base-uncased\"\n",
    "\n",
    "tokenizer = AutoTokenizer.from_pretrained(model_ckpt, cache_dir=cache_dir, token=HF_TOKEN)"
   ]
  },
  {
   "cell_type": "code",
   "execution_count": 8,
   "metadata": {},
   "outputs": [
    {
     "name": "stdout",
     "output_type": "stream",
     "text": [
      "['[UNK]', 'hello', 'how', 'are', 'you']\n"
     ]
    }
   ],
   "source": [
    "s = \"😃 hello how are you\"\n",
    "print(tokenizer.tokenize(s))"
   ]
  },
  {
   "cell_type": "code",
   "execution_count": 11,
   "metadata": {},
   "outputs": [
    {
     "name": "stdout",
     "output_type": "stream",
     "text": [
      "['😃', 'hello', 'how', 'are', 'you']\n"
     ]
    }
   ],
   "source": [
    "tokenizer.add_tokens(\"😃\")\n",
    "print(tokenizer.tokenize(s))"
   ]
  },
  {
   "cell_type": "code",
   "execution_count": 10,
   "metadata": {},
   "outputs": [
    {
     "name": "stdout",
     "output_type": "stream",
     "text": [
      "JB queue like one dog. 30min queue? who u kidding... 😡😡😡\n",
      "['j', '##b', 'queue', 'like', 'one', 'dog', '.', '30', '##min', 'queue', '?', 'who', 'u', 'kidding', '.', '.', '.', '[UNK]']\n"
     ]
    }
   ],
   "source": [
    "print(df.iloc[0]['text'])\n",
    "print(tokenizer.tokenize(df.iloc[0]['text']))"
   ]
  },
  {
   "cell_type": "code",
   "execution_count": 12,
   "metadata": {},
   "outputs": [
    {
     "name": "stdout",
     "output_type": "stream",
     "text": [
      "['j', '##b', 'queue', 'like', 'one', 'dog', '.', '30', '##min', 'queue', '?', 'who', 'u', 'kidding', '.', '.', '.', '😡', '😡', '😡']\n"
     ]
    }
   ],
   "source": [
    "tokenizer.add_tokens(\"😡\")\n",
    "print(tokenizer.tokenize(df.iloc[0]['text']))"
   ]
  },
  {
   "cell_type": "markdown",
   "metadata": {},
   "source": [
    "`bert-base-uncased` by default cannot tokenize emojis and it was not trained with them. Nevertheless, they can still be added to the tokenizer ([Source](https://github.com/huggingface/transformers/issues/7648))."
   ]
  },
  {
   "cell_type": "code",
   "execution_count": null,
   "metadata": {},
   "outputs": [],
   "source": []
  }
 ],
 "metadata": {
  "kernelspec": {
   "display_name": "text_mining_project",
   "language": "python",
   "name": "python3"
  },
  "language_info": {
   "codemirror_mode": {
    "name": "ipython",
    "version": 3
   },
   "file_extension": ".py",
   "mimetype": "text/x-python",
   "name": "python",
   "nbconvert_exporter": "python",
   "pygments_lexer": "ipython3",
   "version": "3.10.6"
  }
 },
 "nbformat": 4,
 "nbformat_minor": 2
}
